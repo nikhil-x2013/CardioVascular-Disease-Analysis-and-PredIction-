{
  "cells": [
    {
      "cell_type": "markdown",
      "metadata": {
        "id": "o4AAllrpU2mh"
      },
      "source": [
        "\n",
        "\n",
        "> Indented block\n",
        "\n",
        "\n",
        "\n",
        "**Welcome to data analysis and preprocessing section !!!!**\n",
        "\n",
        "So, what are we actually going to do?\n",
        "\n",
        "we are going to explore the following questions:\n",
        "\n",
        "\n",
        "\n",
        "\n",
        "\n",
        "\n",
        "*  Create new feature from the existing one which we found out from study that it impacts this disease.\n",
        "\n",
        "\n",
        "*   What is the correlation between variables? Can we expect any relationship? Can we expect a value for the person’s blood pressure when we know his/her age?\n",
        "\n",
        "*   Based on a person’s health profile, can we predict if a person is likely to have CVD?\n",
        "\n",
        "\n",
        "\n"
      ]
    },
    {
      "cell_type": "code",
      "execution_count": null,
      "metadata": {
        "id": "3A_LbhLad5cH"
      },
      "outputs": [],
      "source": [
        "import pandas as pd\n",
        "import numpy as np\n",
        "import seaborn as sns\n",
        "import matplotlib.pyplot as plt"
      ]
    },
    {
      "cell_type": "code",
      "execution_count": null,
      "metadata": {
        "id": "4UUmsGmZVjlI"
      },
      "outputs": [],
      "source": [
        "data=pd.read_csv('cardio_train.csv',sep=';')"
      ]
    },
    {
      "cell_type": "code",
      "execution_count": null,
      "metadata": {
        "colab": {
          "base_uri": "https://localhost:8080/",
          "height": 143
        },
        "id": "l9pdcJrjVseq",
        "outputId": "49082d8b-a598-4d2a-d24f-86f33bf1a4eb"
      },
      "outputs": [
        {
          "output_type": "execute_result",
          "data": {
            "text/plain": [
              "   id    age  gender  height  weight  ap_hi  ap_lo  cholesterol  gluc  smoke  \\\n",
              "0   0  18393       2     168    62.0    110     80            1     1      0   \n",
              "1   1  20228       1     156    85.0    140     90            3     1      0   \n",
              "2   2  18857       1     165    64.0    130     70            3     1      0   \n",
              "\n",
              "   alco  active  cardio  \n",
              "0     0       1       0  \n",
              "1     0       1       1  \n",
              "2     0       0       1  "
            ],
            "text/html": [
              "\n",
              "  <div id=\"df-6f4eb212-ed85-4793-bb57-91360934dcc5\" class=\"colab-df-container\">\n",
              "    <div>\n",
              "<style scoped>\n",
              "    .dataframe tbody tr th:only-of-type {\n",
              "        vertical-align: middle;\n",
              "    }\n",
              "\n",
              "    .dataframe tbody tr th {\n",
              "        vertical-align: top;\n",
              "    }\n",
              "\n",
              "    .dataframe thead th {\n",
              "        text-align: right;\n",
              "    }\n",
              "</style>\n",
              "<table border=\"1\" class=\"dataframe\">\n",
              "  <thead>\n",
              "    <tr style=\"text-align: right;\">\n",
              "      <th></th>\n",
              "      <th>id</th>\n",
              "      <th>age</th>\n",
              "      <th>gender</th>\n",
              "      <th>height</th>\n",
              "      <th>weight</th>\n",
              "      <th>ap_hi</th>\n",
              "      <th>ap_lo</th>\n",
              "      <th>cholesterol</th>\n",
              "      <th>gluc</th>\n",
              "      <th>smoke</th>\n",
              "      <th>alco</th>\n",
              "      <th>active</th>\n",
              "      <th>cardio</th>\n",
              "    </tr>\n",
              "  </thead>\n",
              "  <tbody>\n",
              "    <tr>\n",
              "      <th>0</th>\n",
              "      <td>0</td>\n",
              "      <td>18393</td>\n",
              "      <td>2</td>\n",
              "      <td>168</td>\n",
              "      <td>62.0</td>\n",
              "      <td>110</td>\n",
              "      <td>80</td>\n",
              "      <td>1</td>\n",
              "      <td>1</td>\n",
              "      <td>0</td>\n",
              "      <td>0</td>\n",
              "      <td>1</td>\n",
              "      <td>0</td>\n",
              "    </tr>\n",
              "    <tr>\n",
              "      <th>1</th>\n",
              "      <td>1</td>\n",
              "      <td>20228</td>\n",
              "      <td>1</td>\n",
              "      <td>156</td>\n",
              "      <td>85.0</td>\n",
              "      <td>140</td>\n",
              "      <td>90</td>\n",
              "      <td>3</td>\n",
              "      <td>1</td>\n",
              "      <td>0</td>\n",
              "      <td>0</td>\n",
              "      <td>1</td>\n",
              "      <td>1</td>\n",
              "    </tr>\n",
              "    <tr>\n",
              "      <th>2</th>\n",
              "      <td>2</td>\n",
              "      <td>18857</td>\n",
              "      <td>1</td>\n",
              "      <td>165</td>\n",
              "      <td>64.0</td>\n",
              "      <td>130</td>\n",
              "      <td>70</td>\n",
              "      <td>3</td>\n",
              "      <td>1</td>\n",
              "      <td>0</td>\n",
              "      <td>0</td>\n",
              "      <td>0</td>\n",
              "      <td>1</td>\n",
              "    </tr>\n",
              "  </tbody>\n",
              "</table>\n",
              "</div>\n",
              "    <div class=\"colab-df-buttons\">\n",
              "\n",
              "  <div class=\"colab-df-container\">\n",
              "    <button class=\"colab-df-convert\" onclick=\"convertToInteractive('df-6f4eb212-ed85-4793-bb57-91360934dcc5')\"\n",
              "            title=\"Convert this dataframe to an interactive table.\"\n",
              "            style=\"display:none;\">\n",
              "\n",
              "  <svg xmlns=\"http://www.w3.org/2000/svg\" height=\"24px\" viewBox=\"0 -960 960 960\">\n",
              "    <path d=\"M120-120v-720h720v720H120Zm60-500h600v-160H180v160Zm220 220h160v-160H400v160Zm0 220h160v-160H400v160ZM180-400h160v-160H180v160Zm440 0h160v-160H620v160ZM180-180h160v-160H180v160Zm440 0h160v-160H620v160Z\"/>\n",
              "  </svg>\n",
              "    </button>\n",
              "\n",
              "  <style>\n",
              "    .colab-df-container {\n",
              "      display:flex;\n",
              "      gap: 12px;\n",
              "    }\n",
              "\n",
              "    .colab-df-convert {\n",
              "      background-color: #E8F0FE;\n",
              "      border: none;\n",
              "      border-radius: 50%;\n",
              "      cursor: pointer;\n",
              "      display: none;\n",
              "      fill: #1967D2;\n",
              "      height: 32px;\n",
              "      padding: 0 0 0 0;\n",
              "      width: 32px;\n",
              "    }\n",
              "\n",
              "    .colab-df-convert:hover {\n",
              "      background-color: #E2EBFA;\n",
              "      box-shadow: 0px 1px 2px rgba(60, 64, 67, 0.3), 0px 1px 3px 1px rgba(60, 64, 67, 0.15);\n",
              "      fill: #174EA6;\n",
              "    }\n",
              "\n",
              "    .colab-df-buttons div {\n",
              "      margin-bottom: 4px;\n",
              "    }\n",
              "\n",
              "    [theme=dark] .colab-df-convert {\n",
              "      background-color: #3B4455;\n",
              "      fill: #D2E3FC;\n",
              "    }\n",
              "\n",
              "    [theme=dark] .colab-df-convert:hover {\n",
              "      background-color: #434B5C;\n",
              "      box-shadow: 0px 1px 3px 1px rgba(0, 0, 0, 0.15);\n",
              "      filter: drop-shadow(0px 1px 2px rgba(0, 0, 0, 0.3));\n",
              "      fill: #FFFFFF;\n",
              "    }\n",
              "  </style>\n",
              "\n",
              "    <script>\n",
              "      const buttonEl =\n",
              "        document.querySelector('#df-6f4eb212-ed85-4793-bb57-91360934dcc5 button.colab-df-convert');\n",
              "      buttonEl.style.display =\n",
              "        google.colab.kernel.accessAllowed ? 'block' : 'none';\n",
              "\n",
              "      async function convertToInteractive(key) {\n",
              "        const element = document.querySelector('#df-6f4eb212-ed85-4793-bb57-91360934dcc5');\n",
              "        const dataTable =\n",
              "          await google.colab.kernel.invokeFunction('convertToInteractive',\n",
              "                                                    [key], {});\n",
              "        if (!dataTable) return;\n",
              "\n",
              "        const docLinkHtml = 'Like what you see? Visit the ' +\n",
              "          '<a target=\"_blank\" href=https://colab.research.google.com/notebooks/data_table.ipynb>data table notebook</a>'\n",
              "          + ' to learn more about interactive tables.';\n",
              "        element.innerHTML = '';\n",
              "        dataTable['output_type'] = 'display_data';\n",
              "        await google.colab.output.renderOutput(dataTable, element);\n",
              "        const docLink = document.createElement('div');\n",
              "        docLink.innerHTML = docLinkHtml;\n",
              "        element.appendChild(docLink);\n",
              "      }\n",
              "    </script>\n",
              "  </div>\n",
              "\n",
              "\n",
              "<div id=\"df-53e9653c-a51e-4eee-9dda-f88b0991accb\">\n",
              "  <button class=\"colab-df-quickchart\" onclick=\"quickchart('df-53e9653c-a51e-4eee-9dda-f88b0991accb')\"\n",
              "            title=\"Suggest charts\"\n",
              "            style=\"display:none;\">\n",
              "\n",
              "<svg xmlns=\"http://www.w3.org/2000/svg\" height=\"24px\"viewBox=\"0 0 24 24\"\n",
              "     width=\"24px\">\n",
              "    <g>\n",
              "        <path d=\"M19 3H5c-1.1 0-2 .9-2 2v14c0 1.1.9 2 2 2h14c1.1 0 2-.9 2-2V5c0-1.1-.9-2-2-2zM9 17H7v-7h2v7zm4 0h-2V7h2v10zm4 0h-2v-4h2v4z\"/>\n",
              "    </g>\n",
              "</svg>\n",
              "  </button>\n",
              "\n",
              "<style>\n",
              "  .colab-df-quickchart {\n",
              "      --bg-color: #E8F0FE;\n",
              "      --fill-color: #1967D2;\n",
              "      --hover-bg-color: #E2EBFA;\n",
              "      --hover-fill-color: #174EA6;\n",
              "      --disabled-fill-color: #AAA;\n",
              "      --disabled-bg-color: #DDD;\n",
              "  }\n",
              "\n",
              "  [theme=dark] .colab-df-quickchart {\n",
              "      --bg-color: #3B4455;\n",
              "      --fill-color: #D2E3FC;\n",
              "      --hover-bg-color: #434B5C;\n",
              "      --hover-fill-color: #FFFFFF;\n",
              "      --disabled-bg-color: #3B4455;\n",
              "      --disabled-fill-color: #666;\n",
              "  }\n",
              "\n",
              "  .colab-df-quickchart {\n",
              "    background-color: var(--bg-color);\n",
              "    border: none;\n",
              "    border-radius: 50%;\n",
              "    cursor: pointer;\n",
              "    display: none;\n",
              "    fill: var(--fill-color);\n",
              "    height: 32px;\n",
              "    padding: 0;\n",
              "    width: 32px;\n",
              "  }\n",
              "\n",
              "  .colab-df-quickchart:hover {\n",
              "    background-color: var(--hover-bg-color);\n",
              "    box-shadow: 0 1px 2px rgba(60, 64, 67, 0.3), 0 1px 3px 1px rgba(60, 64, 67, 0.15);\n",
              "    fill: var(--button-hover-fill-color);\n",
              "  }\n",
              "\n",
              "  .colab-df-quickchart-complete:disabled,\n",
              "  .colab-df-quickchart-complete:disabled:hover {\n",
              "    background-color: var(--disabled-bg-color);\n",
              "    fill: var(--disabled-fill-color);\n",
              "    box-shadow: none;\n",
              "  }\n",
              "\n",
              "  .colab-df-spinner {\n",
              "    border: 2px solid var(--fill-color);\n",
              "    border-color: transparent;\n",
              "    border-bottom-color: var(--fill-color);\n",
              "    animation:\n",
              "      spin 1s steps(1) infinite;\n",
              "  }\n",
              "\n",
              "  @keyframes spin {\n",
              "    0% {\n",
              "      border-color: transparent;\n",
              "      border-bottom-color: var(--fill-color);\n",
              "      border-left-color: var(--fill-color);\n",
              "    }\n",
              "    20% {\n",
              "      border-color: transparent;\n",
              "      border-left-color: var(--fill-color);\n",
              "      border-top-color: var(--fill-color);\n",
              "    }\n",
              "    30% {\n",
              "      border-color: transparent;\n",
              "      border-left-color: var(--fill-color);\n",
              "      border-top-color: var(--fill-color);\n",
              "      border-right-color: var(--fill-color);\n",
              "    }\n",
              "    40% {\n",
              "      border-color: transparent;\n",
              "      border-right-color: var(--fill-color);\n",
              "      border-top-color: var(--fill-color);\n",
              "    }\n",
              "    60% {\n",
              "      border-color: transparent;\n",
              "      border-right-color: var(--fill-color);\n",
              "    }\n",
              "    80% {\n",
              "      border-color: transparent;\n",
              "      border-right-color: var(--fill-color);\n",
              "      border-bottom-color: var(--fill-color);\n",
              "    }\n",
              "    90% {\n",
              "      border-color: transparent;\n",
              "      border-bottom-color: var(--fill-color);\n",
              "    }\n",
              "  }\n",
              "</style>\n",
              "\n",
              "  <script>\n",
              "    async function quickchart(key) {\n",
              "      const quickchartButtonEl =\n",
              "        document.querySelector('#' + key + ' button');\n",
              "      quickchartButtonEl.disabled = true;  // To prevent multiple clicks.\n",
              "      quickchartButtonEl.classList.add('colab-df-spinner');\n",
              "      try {\n",
              "        const charts = await google.colab.kernel.invokeFunction(\n",
              "            'suggestCharts', [key], {});\n",
              "      } catch (error) {\n",
              "        console.error('Error during call to suggestCharts:', error);\n",
              "      }\n",
              "      quickchartButtonEl.classList.remove('colab-df-spinner');\n",
              "      quickchartButtonEl.classList.add('colab-df-quickchart-complete');\n",
              "    }\n",
              "    (() => {\n",
              "      let quickchartButtonEl =\n",
              "        document.querySelector('#df-53e9653c-a51e-4eee-9dda-f88b0991accb button');\n",
              "      quickchartButtonEl.style.display =\n",
              "        google.colab.kernel.accessAllowed ? 'block' : 'none';\n",
              "    })();\n",
              "  </script>\n",
              "</div>\n",
              "    </div>\n",
              "  </div>\n"
            ]
          },
          "metadata": {},
          "execution_count": 57
        }
      ],
      "source": [
        "data.head(3)"
      ]
    },
    {
      "cell_type": "code",
      "execution_count": null,
      "metadata": {
        "colab": {
          "base_uri": "https://localhost:8080/"
        },
        "id": "fjegbBDxPoX3",
        "outputId": "dcfd7756-418b-4f5f-cb7a-137f48073875"
      },
      "outputs": [
        {
          "output_type": "execute_result",
          "data": {
            "text/plain": [
              "(70000, 13)"
            ]
          },
          "metadata": {},
          "execution_count": 58
        }
      ],
      "source": [
        "data.shape"
      ]
    },
    {
      "cell_type": "markdown",
      "metadata": {
        "id": "85Romz2CPrFC"
      },
      "source": [
        "from here, we can conclude data has 70000 entries and 13 features."
      ]
    },
    {
      "cell_type": "code",
      "execution_count": null,
      "metadata": {
        "colab": {
          "base_uri": "https://localhost:8080/"
        },
        "id": "Ooq0AbqfPz_6",
        "outputId": "5a73f1a4-5483-421e-baf9-ed3107f48431"
      },
      "outputs": [
        {
          "output_type": "execute_result",
          "data": {
            "text/plain": [
              "id             0\n",
              "age            0\n",
              "gender         0\n",
              "height         0\n",
              "weight         0\n",
              "ap_hi          0\n",
              "ap_lo          0\n",
              "cholesterol    0\n",
              "gluc           0\n",
              "smoke          0\n",
              "alco           0\n",
              "active         0\n",
              "cardio         0\n",
              "dtype: int64"
            ]
          },
          "metadata": {},
          "execution_count": 59
        }
      ],
      "source": [
        "data.isnull().sum()"
      ]
    },
    {
      "cell_type": "markdown",
      "metadata": {
        "id": "I7TMaaXIP5DG"
      },
      "source": [
        "from this we can conclude, No feature has any missing value."
      ]
    },
    {
      "cell_type": "markdown",
      "metadata": {
        "id": "3iS23hKiQFUQ"
      },
      "source": [
        "**My plan for data preparation:**\n",
        "\n",
        "\n",
        "\n",
        "*  drop duplicated rows if any.\n",
        "*  drop any unusual feature.\n",
        "\n",
        "\n",
        "*   Identify Outliers and remove them\n",
        "\n",
        "\n",
        "\n",
        "*   convert age from days to years.\n",
        "*   create a column for ranges of age.\n",
        "\n",
        "*   create a column for body mass index (bmi).\n",
        "*   create a column for state of blood pressure.\n",
        "\n",
        "\n",
        "\n",
        "\n",
        "\n",
        "\n",
        "\n",
        "\n",
        "\n",
        "\n",
        "\n",
        "\n"
      ]
    },
    {
      "cell_type": "code",
      "execution_count": null,
      "metadata": {
        "colab": {
          "base_uri": "https://localhost:8080/"
        },
        "id": "3Clys0GcqLlh",
        "outputId": "b47f9dc9-f9b2-4c30-9083-9aa882dbb444"
      },
      "outputs": [
        {
          "output_type": "execute_result",
          "data": {
            "text/plain": [
              "0"
            ]
          },
          "metadata": {},
          "execution_count": 60
        }
      ],
      "source": [
        "data.duplicated().sum()"
      ]
    },
    {
      "cell_type": "markdown",
      "metadata": {
        "id": "lMyV-cGaqdzq"
      },
      "source": [
        "There is no duplicate entries rows in dataset."
      ]
    },
    {
      "cell_type": "code",
      "execution_count": null,
      "metadata": {
        "id": "iHIfcCwT59ME"
      },
      "outputs": [],
      "source": [
        "data.drop('id',axis=1,inplace=True)"
      ]
    },
    {
      "cell_type": "code",
      "execution_count": null,
      "metadata": {
        "colab": {
          "base_uri": "https://localhost:8080/",
          "height": 320
        },
        "id": "N9rcMm7Dqudu",
        "outputId": "d47135ed-8e40-4687-c125-ea0e3aa99751"
      },
      "outputs": [
        {
          "output_type": "execute_result",
          "data": {
            "text/plain": [
              "                age        gender        height        weight         ap_hi  \\\n",
              "count  70000.000000  70000.000000  70000.000000  70000.000000  70000.000000   \n",
              "mean   19468.865814      1.349571    164.359229     74.205690    128.817286   \n",
              "std     2467.251667      0.476838      8.210126     14.395757    154.011419   \n",
              "min    10798.000000      1.000000     55.000000     10.000000   -150.000000   \n",
              "25%    17664.000000      1.000000    159.000000     65.000000    120.000000   \n",
              "50%    19703.000000      1.000000    165.000000     72.000000    120.000000   \n",
              "75%    21327.000000      2.000000    170.000000     82.000000    140.000000   \n",
              "max    23713.000000      2.000000    250.000000    200.000000  16020.000000   \n",
              "\n",
              "              ap_lo   cholesterol          gluc         smoke          alco  \\\n",
              "count  70000.000000  70000.000000  70000.000000  70000.000000  70000.000000   \n",
              "mean      96.630414      1.366871      1.226457      0.088129      0.053771   \n",
              "std      188.472530      0.680250      0.572270      0.283484      0.225568   \n",
              "min      -70.000000      1.000000      1.000000      0.000000      0.000000   \n",
              "25%       80.000000      1.000000      1.000000      0.000000      0.000000   \n",
              "50%       80.000000      1.000000      1.000000      0.000000      0.000000   \n",
              "75%       90.000000      2.000000      1.000000      0.000000      0.000000   \n",
              "max    11000.000000      3.000000      3.000000      1.000000      1.000000   \n",
              "\n",
              "             active        cardio  \n",
              "count  70000.000000  70000.000000  \n",
              "mean       0.803729      0.499700  \n",
              "std        0.397179      0.500003  \n",
              "min        0.000000      0.000000  \n",
              "25%        1.000000      0.000000  \n",
              "50%        1.000000      0.000000  \n",
              "75%        1.000000      1.000000  \n",
              "max        1.000000      1.000000  "
            ],
            "text/html": [
              "\n",
              "  <div id=\"df-01919b6b-a4db-4b32-9c12-48237693a643\" class=\"colab-df-container\">\n",
              "    <div>\n",
              "<style scoped>\n",
              "    .dataframe tbody tr th:only-of-type {\n",
              "        vertical-align: middle;\n",
              "    }\n",
              "\n",
              "    .dataframe tbody tr th {\n",
              "        vertical-align: top;\n",
              "    }\n",
              "\n",
              "    .dataframe thead th {\n",
              "        text-align: right;\n",
              "    }\n",
              "</style>\n",
              "<table border=\"1\" class=\"dataframe\">\n",
              "  <thead>\n",
              "    <tr style=\"text-align: right;\">\n",
              "      <th></th>\n",
              "      <th>age</th>\n",
              "      <th>gender</th>\n",
              "      <th>height</th>\n",
              "      <th>weight</th>\n",
              "      <th>ap_hi</th>\n",
              "      <th>ap_lo</th>\n",
              "      <th>cholesterol</th>\n",
              "      <th>gluc</th>\n",
              "      <th>smoke</th>\n",
              "      <th>alco</th>\n",
              "      <th>active</th>\n",
              "      <th>cardio</th>\n",
              "    </tr>\n",
              "  </thead>\n",
              "  <tbody>\n",
              "    <tr>\n",
              "      <th>count</th>\n",
              "      <td>70000.000000</td>\n",
              "      <td>70000.000000</td>\n",
              "      <td>70000.000000</td>\n",
              "      <td>70000.000000</td>\n",
              "      <td>70000.000000</td>\n",
              "      <td>70000.000000</td>\n",
              "      <td>70000.000000</td>\n",
              "      <td>70000.000000</td>\n",
              "      <td>70000.000000</td>\n",
              "      <td>70000.000000</td>\n",
              "      <td>70000.000000</td>\n",
              "      <td>70000.000000</td>\n",
              "    </tr>\n",
              "    <tr>\n",
              "      <th>mean</th>\n",
              "      <td>19468.865814</td>\n",
              "      <td>1.349571</td>\n",
              "      <td>164.359229</td>\n",
              "      <td>74.205690</td>\n",
              "      <td>128.817286</td>\n",
              "      <td>96.630414</td>\n",
              "      <td>1.366871</td>\n",
              "      <td>1.226457</td>\n",
              "      <td>0.088129</td>\n",
              "      <td>0.053771</td>\n",
              "      <td>0.803729</td>\n",
              "      <td>0.499700</td>\n",
              "    </tr>\n",
              "    <tr>\n",
              "      <th>std</th>\n",
              "      <td>2467.251667</td>\n",
              "      <td>0.476838</td>\n",
              "      <td>8.210126</td>\n",
              "      <td>14.395757</td>\n",
              "      <td>154.011419</td>\n",
              "      <td>188.472530</td>\n",
              "      <td>0.680250</td>\n",
              "      <td>0.572270</td>\n",
              "      <td>0.283484</td>\n",
              "      <td>0.225568</td>\n",
              "      <td>0.397179</td>\n",
              "      <td>0.500003</td>\n",
              "    </tr>\n",
              "    <tr>\n",
              "      <th>min</th>\n",
              "      <td>10798.000000</td>\n",
              "      <td>1.000000</td>\n",
              "      <td>55.000000</td>\n",
              "      <td>10.000000</td>\n",
              "      <td>-150.000000</td>\n",
              "      <td>-70.000000</td>\n",
              "      <td>1.000000</td>\n",
              "      <td>1.000000</td>\n",
              "      <td>0.000000</td>\n",
              "      <td>0.000000</td>\n",
              "      <td>0.000000</td>\n",
              "      <td>0.000000</td>\n",
              "    </tr>\n",
              "    <tr>\n",
              "      <th>25%</th>\n",
              "      <td>17664.000000</td>\n",
              "      <td>1.000000</td>\n",
              "      <td>159.000000</td>\n",
              "      <td>65.000000</td>\n",
              "      <td>120.000000</td>\n",
              "      <td>80.000000</td>\n",
              "      <td>1.000000</td>\n",
              "      <td>1.000000</td>\n",
              "      <td>0.000000</td>\n",
              "      <td>0.000000</td>\n",
              "      <td>1.000000</td>\n",
              "      <td>0.000000</td>\n",
              "    </tr>\n",
              "    <tr>\n",
              "      <th>50%</th>\n",
              "      <td>19703.000000</td>\n",
              "      <td>1.000000</td>\n",
              "      <td>165.000000</td>\n",
              "      <td>72.000000</td>\n",
              "      <td>120.000000</td>\n",
              "      <td>80.000000</td>\n",
              "      <td>1.000000</td>\n",
              "      <td>1.000000</td>\n",
              "      <td>0.000000</td>\n",
              "      <td>0.000000</td>\n",
              "      <td>1.000000</td>\n",
              "      <td>0.000000</td>\n",
              "    </tr>\n",
              "    <tr>\n",
              "      <th>75%</th>\n",
              "      <td>21327.000000</td>\n",
              "      <td>2.000000</td>\n",
              "      <td>170.000000</td>\n",
              "      <td>82.000000</td>\n",
              "      <td>140.000000</td>\n",
              "      <td>90.000000</td>\n",
              "      <td>2.000000</td>\n",
              "      <td>1.000000</td>\n",
              "      <td>0.000000</td>\n",
              "      <td>0.000000</td>\n",
              "      <td>1.000000</td>\n",
              "      <td>1.000000</td>\n",
              "    </tr>\n",
              "    <tr>\n",
              "      <th>max</th>\n",
              "      <td>23713.000000</td>\n",
              "      <td>2.000000</td>\n",
              "      <td>250.000000</td>\n",
              "      <td>200.000000</td>\n",
              "      <td>16020.000000</td>\n",
              "      <td>11000.000000</td>\n",
              "      <td>3.000000</td>\n",
              "      <td>3.000000</td>\n",
              "      <td>1.000000</td>\n",
              "      <td>1.000000</td>\n",
              "      <td>1.000000</td>\n",
              "      <td>1.000000</td>\n",
              "    </tr>\n",
              "  </tbody>\n",
              "</table>\n",
              "</div>\n",
              "    <div class=\"colab-df-buttons\">\n",
              "\n",
              "  <div class=\"colab-df-container\">\n",
              "    <button class=\"colab-df-convert\" onclick=\"convertToInteractive('df-01919b6b-a4db-4b32-9c12-48237693a643')\"\n",
              "            title=\"Convert this dataframe to an interactive table.\"\n",
              "            style=\"display:none;\">\n",
              "\n",
              "  <svg xmlns=\"http://www.w3.org/2000/svg\" height=\"24px\" viewBox=\"0 -960 960 960\">\n",
              "    <path d=\"M120-120v-720h720v720H120Zm60-500h600v-160H180v160Zm220 220h160v-160H400v160Zm0 220h160v-160H400v160ZM180-400h160v-160H180v160Zm440 0h160v-160H620v160ZM180-180h160v-160H180v160Zm440 0h160v-160H620v160Z\"/>\n",
              "  </svg>\n",
              "    </button>\n",
              "\n",
              "  <style>\n",
              "    .colab-df-container {\n",
              "      display:flex;\n",
              "      gap: 12px;\n",
              "    }\n",
              "\n",
              "    .colab-df-convert {\n",
              "      background-color: #E8F0FE;\n",
              "      border: none;\n",
              "      border-radius: 50%;\n",
              "      cursor: pointer;\n",
              "      display: none;\n",
              "      fill: #1967D2;\n",
              "      height: 32px;\n",
              "      padding: 0 0 0 0;\n",
              "      width: 32px;\n",
              "    }\n",
              "\n",
              "    .colab-df-convert:hover {\n",
              "      background-color: #E2EBFA;\n",
              "      box-shadow: 0px 1px 2px rgba(60, 64, 67, 0.3), 0px 1px 3px 1px rgba(60, 64, 67, 0.15);\n",
              "      fill: #174EA6;\n",
              "    }\n",
              "\n",
              "    .colab-df-buttons div {\n",
              "      margin-bottom: 4px;\n",
              "    }\n",
              "\n",
              "    [theme=dark] .colab-df-convert {\n",
              "      background-color: #3B4455;\n",
              "      fill: #D2E3FC;\n",
              "    }\n",
              "\n",
              "    [theme=dark] .colab-df-convert:hover {\n",
              "      background-color: #434B5C;\n",
              "      box-shadow: 0px 1px 3px 1px rgba(0, 0, 0, 0.15);\n",
              "      filter: drop-shadow(0px 1px 2px rgba(0, 0, 0, 0.3));\n",
              "      fill: #FFFFFF;\n",
              "    }\n",
              "  </style>\n",
              "\n",
              "    <script>\n",
              "      const buttonEl =\n",
              "        document.querySelector('#df-01919b6b-a4db-4b32-9c12-48237693a643 button.colab-df-convert');\n",
              "      buttonEl.style.display =\n",
              "        google.colab.kernel.accessAllowed ? 'block' : 'none';\n",
              "\n",
              "      async function convertToInteractive(key) {\n",
              "        const element = document.querySelector('#df-01919b6b-a4db-4b32-9c12-48237693a643');\n",
              "        const dataTable =\n",
              "          await google.colab.kernel.invokeFunction('convertToInteractive',\n",
              "                                                    [key], {});\n",
              "        if (!dataTable) return;\n",
              "\n",
              "        const docLinkHtml = 'Like what you see? Visit the ' +\n",
              "          '<a target=\"_blank\" href=https://colab.research.google.com/notebooks/data_table.ipynb>data table notebook</a>'\n",
              "          + ' to learn more about interactive tables.';\n",
              "        element.innerHTML = '';\n",
              "        dataTable['output_type'] = 'display_data';\n",
              "        await google.colab.output.renderOutput(dataTable, element);\n",
              "        const docLink = document.createElement('div');\n",
              "        docLink.innerHTML = docLinkHtml;\n",
              "        element.appendChild(docLink);\n",
              "      }\n",
              "    </script>\n",
              "  </div>\n",
              "\n",
              "\n",
              "<div id=\"df-6b3b8718-5693-4734-a931-544a12272039\">\n",
              "  <button class=\"colab-df-quickchart\" onclick=\"quickchart('df-6b3b8718-5693-4734-a931-544a12272039')\"\n",
              "            title=\"Suggest charts\"\n",
              "            style=\"display:none;\">\n",
              "\n",
              "<svg xmlns=\"http://www.w3.org/2000/svg\" height=\"24px\"viewBox=\"0 0 24 24\"\n",
              "     width=\"24px\">\n",
              "    <g>\n",
              "        <path d=\"M19 3H5c-1.1 0-2 .9-2 2v14c0 1.1.9 2 2 2h14c1.1 0 2-.9 2-2V5c0-1.1-.9-2-2-2zM9 17H7v-7h2v7zm4 0h-2V7h2v10zm4 0h-2v-4h2v4z\"/>\n",
              "    </g>\n",
              "</svg>\n",
              "  </button>\n",
              "\n",
              "<style>\n",
              "  .colab-df-quickchart {\n",
              "      --bg-color: #E8F0FE;\n",
              "      --fill-color: #1967D2;\n",
              "      --hover-bg-color: #E2EBFA;\n",
              "      --hover-fill-color: #174EA6;\n",
              "      --disabled-fill-color: #AAA;\n",
              "      --disabled-bg-color: #DDD;\n",
              "  }\n",
              "\n",
              "  [theme=dark] .colab-df-quickchart {\n",
              "      --bg-color: #3B4455;\n",
              "      --fill-color: #D2E3FC;\n",
              "      --hover-bg-color: #434B5C;\n",
              "      --hover-fill-color: #FFFFFF;\n",
              "      --disabled-bg-color: #3B4455;\n",
              "      --disabled-fill-color: #666;\n",
              "  }\n",
              "\n",
              "  .colab-df-quickchart {\n",
              "    background-color: var(--bg-color);\n",
              "    border: none;\n",
              "    border-radius: 50%;\n",
              "    cursor: pointer;\n",
              "    display: none;\n",
              "    fill: var(--fill-color);\n",
              "    height: 32px;\n",
              "    padding: 0;\n",
              "    width: 32px;\n",
              "  }\n",
              "\n",
              "  .colab-df-quickchart:hover {\n",
              "    background-color: var(--hover-bg-color);\n",
              "    box-shadow: 0 1px 2px rgba(60, 64, 67, 0.3), 0 1px 3px 1px rgba(60, 64, 67, 0.15);\n",
              "    fill: var(--button-hover-fill-color);\n",
              "  }\n",
              "\n",
              "  .colab-df-quickchart-complete:disabled,\n",
              "  .colab-df-quickchart-complete:disabled:hover {\n",
              "    background-color: var(--disabled-bg-color);\n",
              "    fill: var(--disabled-fill-color);\n",
              "    box-shadow: none;\n",
              "  }\n",
              "\n",
              "  .colab-df-spinner {\n",
              "    border: 2px solid var(--fill-color);\n",
              "    border-color: transparent;\n",
              "    border-bottom-color: var(--fill-color);\n",
              "    animation:\n",
              "      spin 1s steps(1) infinite;\n",
              "  }\n",
              "\n",
              "  @keyframes spin {\n",
              "    0% {\n",
              "      border-color: transparent;\n",
              "      border-bottom-color: var(--fill-color);\n",
              "      border-left-color: var(--fill-color);\n",
              "    }\n",
              "    20% {\n",
              "      border-color: transparent;\n",
              "      border-left-color: var(--fill-color);\n",
              "      border-top-color: var(--fill-color);\n",
              "    }\n",
              "    30% {\n",
              "      border-color: transparent;\n",
              "      border-left-color: var(--fill-color);\n",
              "      border-top-color: var(--fill-color);\n",
              "      border-right-color: var(--fill-color);\n",
              "    }\n",
              "    40% {\n",
              "      border-color: transparent;\n",
              "      border-right-color: var(--fill-color);\n",
              "      border-top-color: var(--fill-color);\n",
              "    }\n",
              "    60% {\n",
              "      border-color: transparent;\n",
              "      border-right-color: var(--fill-color);\n",
              "    }\n",
              "    80% {\n",
              "      border-color: transparent;\n",
              "      border-right-color: var(--fill-color);\n",
              "      border-bottom-color: var(--fill-color);\n",
              "    }\n",
              "    90% {\n",
              "      border-color: transparent;\n",
              "      border-bottom-color: var(--fill-color);\n",
              "    }\n",
              "  }\n",
              "</style>\n",
              "\n",
              "  <script>\n",
              "    async function quickchart(key) {\n",
              "      const quickchartButtonEl =\n",
              "        document.querySelector('#' + key + ' button');\n",
              "      quickchartButtonEl.disabled = true;  // To prevent multiple clicks.\n",
              "      quickchartButtonEl.classList.add('colab-df-spinner');\n",
              "      try {\n",
              "        const charts = await google.colab.kernel.invokeFunction(\n",
              "            'suggestCharts', [key], {});\n",
              "      } catch (error) {\n",
              "        console.error('Error during call to suggestCharts:', error);\n",
              "      }\n",
              "      quickchartButtonEl.classList.remove('colab-df-spinner');\n",
              "      quickchartButtonEl.classList.add('colab-df-quickchart-complete');\n",
              "    }\n",
              "    (() => {\n",
              "      let quickchartButtonEl =\n",
              "        document.querySelector('#df-6b3b8718-5693-4734-a931-544a12272039 button');\n",
              "      quickchartButtonEl.style.display =\n",
              "        google.colab.kernel.accessAllowed ? 'block' : 'none';\n",
              "    })();\n",
              "  </script>\n",
              "</div>\n",
              "    </div>\n",
              "  </div>\n"
            ]
          },
          "metadata": {},
          "execution_count": 62
        }
      ],
      "source": [
        "data.describe()  #height and weight have outliers"
      ]
    },
    {
      "cell_type": "markdown",
      "metadata": {
        "id": "ldBQUBHoqxJl"
      },
      "source": [
        "from this we can observe and identify the outliers. like min and max of weight and height deosn't make sense. So, we will remove them as it will wrongly deviate our model."
      ]
    },
    {
      "cell_type": "code",
      "execution_count": null,
      "metadata": {
        "colab": {
          "base_uri": "https://localhost:8080/",
          "height": 730
        },
        "id": "bxg9LzyFGXBJ",
        "outputId": "0fe076e6-ce3b-4c13-fd17-f315a1d08605"
      },
      "outputs": [
        {
          "output_type": "stream",
          "name": "stderr",
          "text": [
            "<ipython-input-63-c441d67e3756>:3: UserWarning: \n",
            "\n",
            "`distplot` is a deprecated function and will be removed in seaborn v0.14.0.\n",
            "\n",
            "Please adapt your code to use either `displot` (a figure-level function with\n",
            "similar flexibility) or `histplot` (an axes-level function for histograms).\n",
            "\n",
            "For a guide to updating your code to use the new functions, please see\n",
            "https://gist.github.com/mwaskom/de44147ed2974457ad6372750bbe5751\n",
            "\n",
            "  sns.distplot(data['height'])\n",
            "<ipython-input-63-c441d67e3756>:6: UserWarning: \n",
            "\n",
            "`distplot` is a deprecated function and will be removed in seaborn v0.14.0.\n",
            "\n",
            "Please adapt your code to use either `displot` (a figure-level function with\n",
            "similar flexibility) or `histplot` (an axes-level function for histograms).\n",
            "\n",
            "For a guide to updating your code to use the new functions, please see\n",
            "https://gist.github.com/mwaskom/de44147ed2974457ad6372750bbe5751\n",
            "\n",
            "  sns.distplot(data['weight'])\n"
          ]
        },
        {
          "output_type": "display_data",
          "data": {
            "text/plain": [
              "<Figure size 1600x500 with 2 Axes>"
            ],
            "image/png": "[encoded data removed]"
          },
          "metadata": {}
        }
      ],
      "source": [
        "plt.figure(figsize=(16,5))\n",
        "plt.subplot(1,2,1)\n",
        "sns.distplot(data['height'])\n",
        "\n",
        "plt.subplot(1,2,2)\n",
        "sns.distplot(data['weight'])\n",
        "\n",
        "plt.show()\n"
      ]
    },
    {
      "cell_type": "code",
      "execution_count": null,
      "metadata": {
        "colab": {
          "base_uri": "https://localhost:8080/"
        },
        "id": "790eCVlQMEsF",
        "outputId": "0a3b11c4-e8d6-4efd-9d55-3fd8cd0cf906"
      },
      "outputs": [
        {
          "output_type": "execute_result",
          "data": {
            "text/plain": [
              "-0.6421874521557643"
            ]
          },
          "metadata": {},
          "execution_count": 64
        }
      ],
      "source": [
        "data['height'].skew() #moderately skewed"
      ]
    },
    {
      "cell_type": "code",
      "execution_count": null,
      "metadata": {
        "colab": {
          "base_uri": "https://localhost:8080/"
        },
        "id": "dnhEfMGwMNPN",
        "outputId": "e51db3ec-51a4-470e-dc7e-2ffbb801b38a"
      },
      "outputs": [
        {
          "output_type": "execute_result",
          "data": {
            "text/plain": [
              "1.0120701082089065"
            ]
          },
          "metadata": {},
          "execution_count": 65
        }
      ],
      "source": [
        "data['weight'].skew() #highly skewed"
      ]
    },
    {
      "cell_type": "markdown",
      "metadata": {
        "id": "ZqUizoVOMbDW"
      },
      "source": [
        "**we can see from the graph, height is left skewed and weight is right skewed.** Since, data is highly skewed, we can conclude it isnt normal distribution.Hence, both height and weight **OUTLIERS** should be handled using IQR method."
      ]
    },
    {
      "cell_type": "code",
      "execution_count": null,
      "metadata": {
        "colab": {
          "base_uri": "https://localhost:8080/"
        },
        "id": "XpFkVex4Ntl_",
        "outputId": "429fc76c-b432-41f9-9e36-c4b1a14d07a9"
      },
      "outputs": [
        {
          "output_type": "execute_result",
          "data": {
            "text/plain": [
              "count    70000.000000\n",
              "mean       164.359229\n",
              "std          8.210126\n",
              "min         55.000000\n",
              "25%        159.000000\n",
              "50%        165.000000\n",
              "75%        170.000000\n",
              "max        250.000000\n",
              "Name: height, dtype: float64"
            ]
          },
          "metadata": {},
          "execution_count": 66
        }
      ],
      "source": [
        "data['height'].describe()"
      ]
    },
    {
      "cell_type": "code",
      "execution_count": null,
      "metadata": {
        "colab": {
          "base_uri": "https://localhost:8080/"
        },
        "id": "RqVdD7kaMnCj",
        "outputId": "61c23a9f-e485-402c-b685-b18c10d3ec87"
      },
      "outputs": [
        {
          "output_type": "execute_result",
          "data": {
            "text/plain": [
              "count    70000.000000\n",
              "mean        74.205690\n",
              "std         14.395757\n",
              "min         10.000000\n",
              "25%         65.000000\n",
              "50%         72.000000\n",
              "75%         82.000000\n",
              "max        200.000000\n",
              "Name: weight, dtype: float64"
            ]
          },
          "metadata": {},
          "execution_count": 67
        }
      ],
      "source": [
        "data['weight'].describe()"
      ]
    },
    {
      "cell_type": "code",
      "execution_count": null,
      "metadata": {
        "colab": {
          "base_uri": "https://localhost:8080/",
          "height": 462
        },
        "id": "sYrwB7nuVefN",
        "outputId": "5fa0df21-8494-442e-9bb0-293419c2a3a0"
      },
      "outputs": [
        {
          "output_type": "execute_result",
          "data": {
            "text/plain": [
              "Text(0, 0.5, 'height')"
            ]
          },
          "metadata": {},
          "execution_count": 68
        },
        {
          "output_type": "display_data",
          "data": {
            "text/plain": [
              "<Figure size 1600x500 with 1 Axes>"
            ],
            "image/png": "[encoded data removed]"
          },
          "metadata": {}
        }
      ],
      "source": [
        "plt.figure(figsize=(16,5))\n",
        "plt.subplot(1,2,1)\n",
        "sns.boxplot(data['height'])\n",
        "plt.ylabel(\"height\")       #75%\n"
      ]
    },
    {
      "cell_type": "code",
      "execution_count": null,
      "metadata": {
        "id": "R0fyFxcuWivK"
      },
      "outputs": [],
      "source": [
        "#finding the IQR\n",
        "percentile25= data['height'].quantile(0.25)\n",
        "percentile75= data['height'].quantile(0.75)"
      ]
    },
    {
      "cell_type": "code",
      "execution_count": null,
      "metadata": {
        "colab": {
          "base_uri": "https://localhost:8080/"
        },
        "id": "T4oltrKVW596",
        "outputId": "f70bcc5c-136b-49ef-9c17-6c95a6bd9a0d"
      },
      "outputs": [
        {
          "output_type": "execute_result",
          "data": {
            "text/plain": [
              "11.0"
            ]
          },
          "metadata": {},
          "execution_count": 70
        }
      ],
      "source": [
        "iqr_height=percentile75-percentile25\n",
        "iqr_height"
      ]
    },
    {
      "cell_type": "code",
      "execution_count": null,
      "metadata": {
        "colab": {
          "base_uri": "https://localhost:8080/"
        },
        "id": "EkuG43S0XGMc",
        "outputId": "737c801d-a418-477e-fa18-9090b073daed"
      },
      "outputs": [
        {
          "output_type": "stream",
          "name": "stdout",
          "text": [
            "upper_limit_for_height:  186.5\n",
            "lower_limit_for_height:  142.5\n"
          ]
        }
      ],
      "source": [
        "upper_limit= percentile75 + 1.5*iqr_height\n",
        "lower_limit= percentile25 - 1.5* iqr_height\n",
        "\n",
        "print(\"upper_limit_for_height: \",upper_limit)\n",
        "print(\"lower_limit_for_height: \",lower_limit)"
      ]
    },
    {
      "cell_type": "code",
      "execution_count": null,
      "metadata": {
        "colab": {
          "base_uri": "https://localhost:8080/"
        },
        "id": "SH9wjH1jZhc8",
        "outputId": "29afe3a0-4c5d-4727-e940-fdd5d56e10d0"
      },
      "outputs": [
        {
          "output_type": "execute_result",
          "data": {
            "text/plain": [
              "519"
            ]
          },
          "metadata": {},
          "execution_count": 72
        }
      ],
      "source": [
        "mask1=data['height'] >upper_limit\n",
        "mask2=data['height']< lower_limit\n",
        "data[mask1 | mask2].shape[0]"
      ]
    },
    {
      "cell_type": "code",
      "execution_count": null,
      "metadata": {
        "colab": {
          "base_uri": "https://localhost:8080/"
        },
        "id": "M41Xcrd4mX7b",
        "outputId": "050c34f0-4778-4b81-910e-fd18cdb2cd73"
      },
      "outputs": [
        {
          "output_type": "execute_result",
          "data": {
            "text/plain": [
              "(69481, 12)"
            ]
          },
          "metadata": {},
          "execution_count": 73
        }
      ],
      "source": [
        "m1=data['height']<upper_limit\n",
        "m2=data['height']>lower_limit\n",
        "new_data=data[m1 & m2]\n",
        "new_data.shape"
      ]
    },
    {
      "cell_type": "code",
      "execution_count": null,
      "metadata": {
        "colab": {
          "base_uri": "https://localhost:8080/",
          "height": 260
        },
        "id": "6V22Fp27ogfp",
        "outputId": "4056cd4d-a024-4967-a2be-b037287895be"
      },
      "outputs": [
        {
          "output_type": "display_data",
          "data": {
            "text/plain": [
              "<Figure size 1600x800 with 2 Axes>"
            ],
            "image/png": "[encoded data removed]"
          },
          "metadata": {}
        }
      ],
      "source": [
        "plt.figure(figsize=(16,8))\n",
        "plt.subplot(2,2,1)\n",
        "sns.boxplot(data['height'])\n",
        "plt.subplot(2,2,2)\n",
        "sns.boxplot(new_data['height'])\n",
        "plt.show()"
      ]
    },
    {
      "cell_type": "markdown",
      "metadata": {
        "id": "Eo0TPCdjmB38"
      },
      "source": [
        "**Finding Outlier for Weight**"
      ]
    },
    {
      "cell_type": "code",
      "execution_count": null,
      "metadata": {
        "colab": {
          "base_uri": "https://localhost:8080/",
          "height": 462
        },
        "id": "cRkYGUKoV1t-",
        "outputId": "f95ed28e-240e-4bb0-e83b-73c7453d489e"
      },
      "outputs": [
        {
          "output_type": "execute_result",
          "data": {
            "text/plain": [
              "<Axes: >"
            ]
          },
          "metadata": {},
          "execution_count": 75
        },
        {
          "output_type": "display_data",
          "data": {
            "text/plain": [
              "<Figure size 1600x500 with 1 Axes>"
            ],
            "image/png": "[encoded data removed]"
          },
          "metadata": {}
        }
      ],
      "source": [
        "plt.figure(figsize=(16,5))\n",
        "plt.subplot(1,2,1)\n",
        "sns.boxplot(new_data['weight'])"
      ]
    },
    {
      "cell_type": "code",
      "execution_count": null,
      "metadata": {
        "id": "vvClEO6ephJe"
      },
      "outputs": [],
      "source": [
        "percentile25_w= new_data['weight'].quantile(0.25)\n",
        "percentile75_w= new_data['weight'].quantile(0.75)"
      ]
    },
    {
      "cell_type": "code",
      "execution_count": null,
      "metadata": {
        "colab": {
          "base_uri": "https://localhost:8080/"
        },
        "id": "Evq5boIud3dL",
        "outputId": "d43864c5-ed76-4329-84a3-975cc7c2772b"
      },
      "outputs": [
        {
          "output_type": "execute_result",
          "data": {
            "text/plain": [
              "17.0"
            ]
          },
          "metadata": {},
          "execution_count": 77
        }
      ],
      "source": [
        "iqr_weight=percentile75_w-percentile25_w\n",
        "iqr_weight"
      ]
    },
    {
      "cell_type": "code",
      "execution_count": null,
      "metadata": {
        "colab": {
          "base_uri": "https://localhost:8080/"
        },
        "id": "D-7uytT5pw6l",
        "outputId": "68176d54-e786-467d-a0e4-4735774c8bfa"
      },
      "outputs": [
        {
          "output_type": "stream",
          "name": "stdout",
          "text": [
            "upper_limit_for_weight:  107.5\n",
            "lower_limit_for_weight:  39.5\n"
          ]
        }
      ],
      "source": [
        "upper_limit_weight= percentile75_w + 1.5*iqr_weight\n",
        "lower_limit_weight= percentile25_w - 1.5* iqr_weight\n",
        "print(\"upper_limit_for_weight: \",upper_limit_weight)\n",
        "print(\"lower_limit_for_weight: \",lower_limit_weight)"
      ]
    },
    {
      "cell_type": "code",
      "execution_count": null,
      "metadata": {
        "colab": {
          "base_uri": "https://localhost:8080/"
        },
        "id": "SX6wEYShqJwr",
        "outputId": "219ffe91-ef5b-4e86-a6c4-60d0a2ce4e47"
      },
      "outputs": [
        {
          "output_type": "execute_result",
          "data": {
            "text/plain": [
              "1758"
            ]
          },
          "metadata": {},
          "execution_count": 79
        }
      ],
      "source": [
        "mask1_weight=new_data['weight'] >upper_limit_weight\n",
        "mask2_weight=new_data['weight']< lower_limit_weight\n",
        "new_data[mask1_weight| mask2_weight].shape[0]"
      ]
    },
    {
      "cell_type": "code",
      "execution_count": null,
      "metadata": {
        "id": "GEDiHpPX6Ejh"
      },
      "outputs": [],
      "source": [
        "# n1=new_data['weight']<upper_limit_weight\n",
        "# n2=new_data['weight']>lower_limit_weight\n",
        "# new_data_cap=new_data[n1 & n2]\n",
        "# new_data_cap.shape"
      ]
    },
    {
      "cell_type": "markdown",
      "metadata": {
        "id": "uq6hmEVZqkcv"
      },
      "source": [
        "A large section of weight is in outliers. So, instead of removing them, we should use the technique of capping."
      ]
    },
    {
      "cell_type": "code",
      "execution_count": null,
      "metadata": {
        "id": "lqb6jBo-q5Kb"
      },
      "outputs": [],
      "source": [
        "new_data_cap = new_data.copy()\n",
        "\n",
        "new_data_cap['weight'] = np.where(   #if\n",
        "    new_data_cap['weight'] > upper_limit_weight,\n",
        "     upper_limit_weight,\n",
        "    np.where(    #elseif\n",
        "        new_data_cap['weight'] < lower_limit_weight,\n",
        "         lower_limit_weight,\n",
        "        new_data_cap['weight']    #else\n",
        "    )\n",
        ")"
      ]
    },
    {
      "cell_type": "code",
      "execution_count": null,
      "metadata": {
        "id": "ZtZY0K7_5vMG"
      },
      "outputs": [],
      "source": []
    },
    {
      "cell_type": "code",
      "execution_count": null,
      "metadata": {
        "colab": {
          "base_uri": "https://localhost:8080/"
        },
        "id": "ElFpE-R0ryoo",
        "outputId": "4f8b4b15-1f22-43b2-9dd1-5ac26d2bd3ee"
      },
      "outputs": [
        {
          "output_type": "execute_result",
          "data": {
            "text/plain": [
              "(69481, 12)"
            ]
          },
          "metadata": {},
          "execution_count": 82
        }
      ],
      "source": [
        "new_data_cap.shape"
      ]
    },
    {
      "cell_type": "code",
      "execution_count": null,
      "metadata": {
        "colab": {
          "base_uri": "https://localhost:8080/",
          "height": 260
        },
        "id": "TPfYfYRrr4jC",
        "outputId": "d8e6f261-802b-4790-b19a-b7698bd6cde0"
      },
      "outputs": [
        {
          "output_type": "display_data",
          "data": {
            "text/plain": [
              "<Figure size 1600x800 with 2 Axes>"
            ],
            "image/png": "[encoded data removed]"
          },
          "metadata": {}
        }
      ],
      "source": [
        "plt.figure(figsize=(16,8))\n",
        "plt.subplot(2,2,1)\n",
        "plt.xlabel(\"\")\n",
        "sns.boxplot(data['height'])\n",
        "plt.subplot(2,2,2)\n",
        "sns.boxplot(new_data_cap['height'])\n",
        "plt.show()"
      ]
    },
    {
      "cell_type": "markdown",
      "metadata": {
        "id": "Mvzebr7SttDQ"
      },
      "source": [
        "Now, moving ahead,Blood flows through our body because of a difference in\n",
        "pressure.Our blood pressure is highest at the start of its journey from our heart ( when it enters the aorta )and it is lowest at the end of its journey along progressively smaller branches of arteries.\n",
        "\n",
        "The systolic pressure (ap_hi) is the higher figure caused by the heart’s contraction, while the diastolic number (ap_lo) is the lower pressure in the arteries.\n",
        "\n",
        "Therefore, ap_hi should be higher thatn ap_low, and they cannot be negative.Hence, we should remove the negative ones and also, the one where ap_hi is lower.\n"
      ]
    },
    {
      "cell_type": "code",
      "execution_count": null,
      "metadata": {
        "colab": {
          "base_uri": "https://localhost:8080/"
        },
        "id": "FV2f8Z0GutmE",
        "outputId": "03d93f02-a39d-41c6-f635-fef36dea51ca"
      },
      "outputs": [
        {
          "output_type": "execute_result",
          "data": {
            "text/plain": [
              "1221"
            ]
          },
          "metadata": {},
          "execution_count": 84
        }
      ],
      "source": [
        "new_data_cap[new_data_cap['ap_hi'] < new_data_cap['ap_lo']].shape[0]"
      ]
    },
    {
      "cell_type": "markdown",
      "metadata": {
        "id": "TGzb5LijvYtw"
      },
      "source": [
        "In 1221 obeservation ap_hi is lower than ap_low, which is incorrect. So,we should remove them."
      ]
    },
    {
      "cell_type": "code",
      "execution_count": null,
      "metadata": {
        "id": "A1RC_maCviMC"
      },
      "outputs": [],
      "source": [
        "new_data_cap = new_data_cap[new_data_cap['ap_hi'] > new_data_cap['ap_lo']].reset_index(drop=True)"
      ]
    },
    {
      "cell_type": "code",
      "execution_count": null,
      "metadata": {
        "colab": {
          "base_uri": "https://localhost:8080/"
        },
        "id": "fq6x3M6D2bI5",
        "outputId": "39c65186-684f-48d2-977c-05283858da27"
      },
      "outputs": [
        {
          "output_type": "execute_result",
          "data": {
            "text/plain": [
              "(68258, 12)"
            ]
          },
          "metadata": {},
          "execution_count": 86
        }
      ],
      "source": [
        "new_data_cap.shape"
      ]
    },
    {
      "cell_type": "code",
      "execution_count": null,
      "metadata": {
        "id": "9DCC3zUe4fi1"
      },
      "outputs": [],
      "source": [
        "def blood_pressure(new_data_cap):\n",
        "    if (new_data_cap['ap_hi'] <= 120) and (new_data_cap['ap_lo'] <= 80):\n",
        "        return 1    #normal\n",
        "    if (new_data_cap['ap_hi'] >= 120 and new_data_cap['ap_hi'] < 129) and (new_data_cap['ap_lo'] < 80):\n",
        "        return 2    #thoda sa\n",
        "    if (new_data_cap['ap_hi'] >= 129 and new_data_cap['ap_hi'] <= 179) | (new_data_cap['ap_lo'] >= 89):\n",
        "        return 3    #very high\n",
        "    if (new_data_cap['ap_hi'] >= 180) | (new_data_cap['ap_lo'] >= 120):\n",
        "        return 4    #crisis\n",
        "\n",
        "new_data_cap['blood_pressure'] = new_data_cap.apply(blood_pressure, axis=1)"
      ]
    },
    {
      "cell_type": "code",
      "execution_count": null,
      "metadata": {
        "id": "ne_SW7Ha2-LV"
      },
      "outputs": [],
      "source": [
        "\n"
      ]
    },
    {
      "cell_type": "markdown",
      "metadata": {
        "id": "XcCP0u_H5vXI"
      },
      "source": [
        "here, we created a feature of blood pressure as it is key factor to know in heart related disease."
      ]
    },
    {
      "cell_type": "code",
      "execution_count": null,
      "metadata": {
        "id": "S5bEz1Nr6pnf"
      },
      "outputs": [],
      "source": [
        "new_data_cap['age'] = round(new_data_cap['age']/365)"
      ]
    },
    {
      "cell_type": "markdown",
      "metadata": {
        "id": "Hd4rEZwf7ANF"
      },
      "source": [
        "since, the age was in days so we converted it into years.\n",
        "\n",
        "---\n",
        "\n"
      ]
    },
    {
      "cell_type": "code",
      "execution_count": null,
      "metadata": {
        "colab": {
          "base_uri": "https://localhost:8080/"
        },
        "id": "RtCjqbkBH5L_",
        "outputId": "d8177b8a-110f-42e9-df0d-f441b716736a"
      },
      "outputs": [
        {
          "output_type": "stream",
          "name": "stdout",
          "text": [
            "Min Age:  30.0\n",
            "Max Age:  65.0\n",
            "Mean Age:  53.32900172873509\n"
          ]
        }
      ],
      "source": [
        "print('Min Age: ', new_data_cap['age'].min())\n",
        "print('Max Age: ', new_data_cap['age'].max())\n",
        "print('Mean Age: ', new_data_cap['age'].mean())\n",
        "\n",
        "new_data_cap['age_range'] = new_data_cap['age'].apply(\n",
        "    lambda x: 1 if (x >=30 and x <= 40) else (2 if (x>40 and x<=48) else 3))"
      ]
    },
    {
      "cell_type": "markdown",
      "metadata": {
        "id": "KKMm7fqBI06v"
      },
      "source": [
        "We created new feature of age_range by observing min,max and mean age value."
      ]
    },
    {
      "cell_type": "markdown",
      "metadata": {
        "id": "MyT-LNZSME9k"
      },
      "source": [
        "from studying many papers and articles on this topic, we concluded that BMI feature is essential and hence we calculated it. Also, using standard weight status categories associated with BMI ranges, we created its range new feature."
      ]
    },
    {
      "cell_type": "code",
      "execution_count": null,
      "metadata": {
        "id": "1wbN7upPNPYt"
      },
      "outputs": [],
      "source": [
        "def BMI(new_data_cap):\n",
        "    return new_data_cap['weight'] / (new_data_cap['height']/100)**2\n",
        "\n",
        "new_data_cap['bmi'] = new_data_cap.apply(BMI, axis=1)"
      ]
    },
    {
      "cell_type": "code",
      "execution_count": null,
      "metadata": {
        "colab": {
          "base_uri": "https://localhost:8080/",
          "height": 539
        },
        "id": "r5By6oM0nSq-",
        "outputId": "78cbf3e1-4fea-4752-8081-1244c503e83c"
      },
      "outputs": [
        {
          "output_type": "execute_result",
          "data": {
            "text/plain": [
              "<pandas.io.formats.style.Styler at 0x7ba0a617d600>"
            ],
            "text/html": [
              "<style type=\"text/css\">\n",
              "#T_8456a_row0_col0, #T_8456a_row1_col1, #T_8456a_row2_col2, #T_8456a_row3_col3, #T_8456a_row4_col4, #T_8456a_row5_col5, #T_8456a_row6_col6, #T_8456a_row7_col7, #T_8456a_row8_col8, #T_8456a_row9_col9, #T_8456a_row10_col10, #T_8456a_row11_col11, #T_8456a_row12_col12, #T_8456a_row13_col13, #T_8456a_row14_col14 {\n",
              "  background-color: #00441b;\n",
              "  color: #f1f1f1;\n",
              "}\n",
              "#T_8456a_row0_col1, #T_8456a_row4_col11, #T_8456a_row7_col1, #T_8456a_row8_col3, #T_8456a_row9_col3, #T_8456a_row9_col6 {\n",
              "  background-color: #ebf7fa;\n",
              "  color: #000000;\n",
              "}\n",
              "#T_8456a_row0_col2, #T_8456a_row4_col0, #T_8456a_row13_col7 {\n",
              "  background-color: #e9f7fa;\n",
              "  color: #000000;\n",
              "}\n",
              "#T_8456a_row0_col3, #T_8456a_row4_col13 {\n",
              "  background-color: #ecf8fa;\n",
              "  color: #000000;\n",
              "}\n",
              "#T_8456a_row0_col4, #T_8456a_row0_col10, #T_8456a_row2_col11, #T_8456a_row6_col4, #T_8456a_row8_col5, #T_8456a_row8_col11, #T_8456a_row8_col13, #T_8456a_row14_col10 {\n",
              "  background-color: #f4fbfc;\n",
              "  color: #000000;\n",
              "}\n",
              "#T_8456a_row0_col5, #T_8456a_row7_col2 {\n",
              "  background-color: #dff3f5;\n",
              "  color: #000000;\n",
              "}\n",
              "#T_8456a_row0_col6, #T_8456a_row5_col2, #T_8456a_row5_col6 {\n",
              "  background-color: #d6f0ee;\n",
              "  color: #000000;\n",
              "}\n",
              "#T_8456a_row0_col7, #T_8456a_row7_col12 {\n",
              "  background-color: #e6f5f9;\n",
              "  color: #000000;\n",
              "}\n",
              "#T_8456a_row0_col8, #T_8456a_row0_col9, #T_8456a_row1_col7, #T_8456a_row2_col0, #T_8456a_row2_col6, #T_8456a_row2_col7, #T_8456a_row2_col12, #T_8456a_row2_col13, #T_8456a_row2_col14, #T_8456a_row8_col4, #T_8456a_row9_col4, #T_8456a_row10_col3, #T_8456a_row10_col4, #T_8456a_row10_col5, #T_8456a_row10_col11, #T_8456a_row11_col10, #T_8456a_row14_col1, #T_8456a_row14_col2 {\n",
              "  background-color: #f7fcfd;\n",
              "  color: #000000;\n",
              "}\n",
              "#T_8456a_row0_col11, #T_8456a_row12_col6 {\n",
              "  background-color: #c5e9e2;\n",
              "  color: #000000;\n",
              "}\n",
              "#T_8456a_row0_col12, #T_8456a_row3_col11, #T_8456a_row13_col11 {\n",
              "  background-color: #d4efec;\n",
              "  color: #000000;\n",
              "}\n",
              "#T_8456a_row0_col13 {\n",
              "  background-color: #127c39;\n",
              "  color: #f1f1f1;\n",
              "}\n",
              "#T_8456a_row0_col14, #T_8456a_row5_col3, #T_8456a_row11_col6 {\n",
              "  background-color: #c7eae3;\n",
              "  color: #000000;\n",
              "}\n",
              "#T_8456a_row1_col0, #T_8456a_row6_col9, #T_8456a_row8_col10, #T_8456a_row9_col10, #T_8456a_row9_col12, #T_8456a_row10_col6, #T_8456a_row10_col13 {\n",
              "  background-color: #eff9fb;\n",
              "  color: #000000;\n",
              "}\n",
              "#T_8456a_row1_col2, #T_8456a_row12_col5 {\n",
              "  background-color: #46b17c;\n",
              "  color: #f1f1f1;\n",
              "}\n",
              "#T_8456a_row1_col3, #T_8456a_row6_col13 {\n",
              "  background-color: #dbf2f2;\n",
              "  color: #000000;\n",
              "}\n",
              "#T_8456a_row1_col4, #T_8456a_row2_col4, #T_8456a_row13_col8, #T_8456a_row13_col9, #T_8456a_row14_col8 {\n",
              "  background-color: #f6fcfd;\n",
              "  color: #000000;\n",
              "}\n",
              "#T_8456a_row1_col5, #T_8456a_row1_col14, #T_8456a_row5_col8, #T_8456a_row6_col1, #T_8456a_row10_col0, #T_8456a_row10_col8, #T_8456a_row12_col9, #T_8456a_row13_col1, #T_8456a_row13_col3 {\n",
              "  background-color: #edf8fb;\n",
              "  color: #000000;\n",
              "}\n",
              "#T_8456a_row1_col6, #T_8456a_row3_col10, #T_8456a_row11_col9, #T_8456a_row13_col4 {\n",
              "  background-color: #f5fbfc;\n",
              "  color: #000000;\n",
              "}\n",
              "#T_8456a_row1_col8, #T_8456a_row5_col14, #T_8456a_row9_col8 {\n",
              "  background-color: #9cd9ca;\n",
              "  color: #000000;\n",
              "}\n",
              "#T_8456a_row1_col9, #T_8456a_row3_col6 {\n",
              "  background-color: #d8f0ef;\n",
              "  color: #000000;\n",
              "}\n",
              "#T_8456a_row1_col10, #T_8456a_row1_col11, #T_8456a_row4_col8, #T_8456a_row6_col10, #T_8456a_row7_col8, #T_8456a_row9_col13, #T_8456a_row14_col9 {\n",
              "  background-color: #f1fafc;\n",
              "  color: #000000;\n",
              "}\n",
              "#T_8456a_row1_col12, #T_8456a_row4_col3, #T_8456a_row6_col8, #T_8456a_row8_col12, #T_8456a_row9_col0, #T_8456a_row10_col9, #T_8456a_row11_col4 {\n",
              "  background-color: #f0f9fb;\n",
              "  color: #000000;\n",
              "}\n",
              "#T_8456a_row1_col13, #T_8456a_row2_col10, #T_8456a_row4_col9, #T_8456a_row7_col10, #T_8456a_row9_col7, #T_8456a_row9_col11, #T_8456a_row11_col8, #T_8456a_row13_col10, #T_8456a_row14_col4 {\n",
              "  background-color: #f3fafc;\n",
              "  color: #000000;\n",
              "}\n",
              "#T_8456a_row2_col1 {\n",
              "  background-color: #4fb688;\n",
              "  color: #f1f1f1;\n",
              "}\n",
              "#T_8456a_row2_col3 {\n",
              "  background-color: #ade0d4;\n",
              "  color: #000000;\n",
              "}\n",
              "#T_8456a_row2_col5, #T_8456a_row3_col4, #T_8456a_row4_col7, #T_8456a_row4_col10, #T_8456a_row5_col10, #T_8456a_row7_col9, #T_8456a_row8_col0, #T_8456a_row9_col5, #T_8456a_row12_col10 {\n",
              "  background-color: #f2fafc;\n",
              "  color: #000000;\n",
              "}\n",
              "#T_8456a_row2_col8 {\n",
              "  background-color: #d0ede9;\n",
              "  color: #000000;\n",
              "}\n",
              "#T_8456a_row2_col9, #T_8456a_row3_col7, #T_8456a_row4_col12, #T_8456a_row6_col2, #T_8456a_row7_col3, #T_8456a_row7_col11, #T_8456a_row12_col7 {\n",
              "  background-color: #e5f5f9;\n",
              "  color: #000000;\n",
              "}\n",
              "#T_8456a_row3_col0, #T_8456a_row12_col1, #T_8456a_row14_col7 {\n",
              "  background-color: #e3f4f7;\n",
              "  color: #000000;\n",
              "}\n",
              "#T_8456a_row3_col1, #T_8456a_row6_col11, #T_8456a_row13_col14 {\n",
              "  background-color: #cdece6;\n",
              "  color: #000000;\n",
              "}\n",
              "#T_8456a_row3_col2, #T_8456a_row11_col12 {\n",
              "  background-color: #82ceb8;\n",
              "  color: #000000;\n",
              "}\n",
              "#T_8456a_row3_col5, #T_8456a_row9_col2 {\n",
              "  background-color: #ccece6;\n",
              "  color: #000000;\n",
              "}\n",
              "#T_8456a_row3_col8, #T_8456a_row11_col7, #T_8456a_row12_col4 {\n",
              "  background-color: #e8f6fa;\n",
              "  color: #000000;\n",
              "}\n",
              "#T_8456a_row3_col9, #T_8456a_row5_col7 {\n",
              "  background-color: #eaf7fa;\n",
              "  color: #000000;\n",
              "}\n",
              "#T_8456a_row3_col12, #T_8456a_row7_col14, #T_8456a_row12_col3 {\n",
              "  background-color: #c4e9e1;\n",
              "  color: #000000;\n",
              "}\n",
              "#T_8456a_row3_col13, #T_8456a_row4_col1, #T_8456a_row10_col1, #T_8456a_row11_col1, #T_8456a_row13_col2 {\n",
              "  background-color: #e7f6f9;\n",
              "  color: #000000;\n",
              "}\n",
              "#T_8456a_row3_col14 {\n",
              "  background-color: #00692a;\n",
              "  color: #f1f1f1;\n",
              "}\n",
              "#T_8456a_row4_col2 {\n",
              "  background-color: #dbf1f1;\n",
              "  color: #000000;\n",
              "}\n",
              "#T_8456a_row4_col5, #T_8456a_row4_col6, #T_8456a_row5_col4, #T_8456a_row7_col5, #T_8456a_row12_col8 {\n",
              "  background-color: #ecf8fb;\n",
              "  color: #000000;\n",
              "}\n",
              "#T_8456a_row4_col14, #T_8456a_row11_col3 {\n",
              "  background-color: #d7f0ee;\n",
              "  color: #000000;\n",
              "}\n",
              "#T_8456a_row5_col0, #T_8456a_row14_col6 {\n",
              "  background-color: #d2eeeb;\n",
              "  color: #000000;\n",
              "}\n",
              "#T_8456a_row5_col1, #T_8456a_row10_col2, #T_8456a_row13_col6, #T_8456a_row13_col12 {\n",
              "  background-color: #ddf2f3;\n",
              "  color: #000000;\n",
              "}\n",
              "#T_8456a_row5_col9, #T_8456a_row8_col6 {\n",
              "  background-color: #eef8fb;\n",
              "  color: #000000;\n",
              "}\n",
              "#T_8456a_row5_col11, #T_8456a_row8_col9 {\n",
              "  background-color: #a0dbcd;\n",
              "  color: #000000;\n",
              "}\n",
              "#T_8456a_row5_col12 {\n",
              "  background-color: #44af79;\n",
              "  color: #f1f1f1;\n",
              "}\n",
              "#T_8456a_row5_col13, #T_8456a_row9_col14 {\n",
              "  background-color: #d9f1f0;\n",
              "  color: #000000;\n",
              "}\n",
              "#T_8456a_row6_col0, #T_8456a_row14_col11 {\n",
              "  background-color: #d1eeea;\n",
              "  color: #000000;\n",
              "}\n",
              "#T_8456a_row6_col3, #T_8456a_row6_col5, #T_8456a_row12_col2 {\n",
              "  background-color: #dff3f4;\n",
              "  color: #000000;\n",
              "}\n",
              "#T_8456a_row6_col7 {\n",
              "  background-color: #75c9af;\n",
              "  color: #000000;\n",
              "}\n",
              "#T_8456a_row6_col12, #T_8456a_row14_col5 {\n",
              "  background-color: #ceede8;\n",
              "  color: #000000;\n",
              "}\n",
              "#T_8456a_row6_col14 {\n",
              "  background-color: #b0e1d6;\n",
              "  color: #000000;\n",
              "}\n",
              "#T_8456a_row7_col0 {\n",
              "  background-color: #dcf2f2;\n",
              "  color: #000000;\n",
              "}\n",
              "#T_8456a_row7_col4, #T_8456a_row8_col7, #T_8456a_row10_col7, #T_8456a_row10_col12 {\n",
              "  background-color: #f5fbfd;\n",
              "  color: #000000;\n",
              "}\n",
              "#T_8456a_row7_col6 {\n",
              "  background-color: #6fc6aa;\n",
              "  color: #000000;\n",
              "}\n",
              "#T_8456a_row7_col13, #T_8456a_row13_col5 {\n",
              "  background-color: #e3f4f8;\n",
              "  color: #000000;\n",
              "}\n",
              "#T_8456a_row8_col1 {\n",
              "  background-color: #8cd2bf;\n",
              "  color: #000000;\n",
              "}\n",
              "#T_8456a_row8_col2, #T_8456a_row11_col5, #T_8456a_row11_col14 {\n",
              "  background-color: #aadfd3;\n",
              "  color: #000000;\n",
              "}\n",
              "#T_8456a_row8_col14 {\n",
              "  background-color: #e2f4f7;\n",
              "  color: #000000;\n",
              "}\n",
              "#T_8456a_row9_col1, #T_8456a_row12_col0 {\n",
              "  background-color: #c8ebe4;\n",
              "  color: #000000;\n",
              "}\n",
              "#T_8456a_row10_col14, #T_8456a_row11_col2 {\n",
              "  background-color: #def2f4;\n",
              "  color: #000000;\n",
              "}\n",
              "#T_8456a_row11_col0 {\n",
              "  background-color: #b8e4db;\n",
              "  color: #000000;\n",
              "}\n",
              "#T_8456a_row11_col13 {\n",
              "  background-color: #d1eee9;\n",
              "  color: #000000;\n",
              "}\n",
              "#T_8456a_row12_col11 {\n",
              "  background-color: #7dccb5;\n",
              "  color: #000000;\n",
              "}\n",
              "#T_8456a_row12_col13 {\n",
              "  background-color: #d5efed;\n",
              "  color: #000000;\n",
              "}\n",
              "#T_8456a_row12_col14 {\n",
              "  background-color: #8fd4c2;\n",
              "  color: #000000;\n",
              "}\n",
              "#T_8456a_row13_col0 {\n",
              "  background-color: #117b38;\n",
              "  color: #f1f1f1;\n",
              "}\n",
              "#T_8456a_row14_col0 {\n",
              "  background-color: #daf1f1;\n",
              "  color: #000000;\n",
              "}\n",
              "#T_8456a_row14_col3 {\n",
              "  background-color: #03702e;\n",
              "  color: #f1f1f1;\n",
              "}\n",
              "#T_8456a_row14_col12 {\n",
              "  background-color: #bde6de;\n",
              "  color: #000000;\n",
              "}\n",
              "#T_8456a_row14_col13 {\n",
              "  background-color: #e0f3f5;\n",
              "  color: #000000;\n",
              "}\n",
              "</style>\n",
              "<table id=\"T_8456a\" class=\"dataframe\">\n",
              "  <thead>\n",
              "    <tr>\n",
              "      <th class=\"blank level0\" >&nbsp;</th>\n",
              "      <th id=\"T_8456a_level0_col0\" class=\"col_heading level0 col0\" >age</th>\n",
              "      <th id=\"T_8456a_level0_col1\" class=\"col_heading level0 col1\" >gender</th>\n",
              "      <th id=\"T_8456a_level0_col2\" class=\"col_heading level0 col2\" >height</th>\n",
              "      <th id=\"T_8456a_level0_col3\" class=\"col_heading level0 col3\" >weight</th>\n",
              "      <th id=\"T_8456a_level0_col4\" class=\"col_heading level0 col4\" >ap_hi</th>\n",
              "      <th id=\"T_8456a_level0_col5\" class=\"col_heading level0 col5\" >ap_lo</th>\n",
              "      <th id=\"T_8456a_level0_col6\" class=\"col_heading level0 col6\" >cholesterol</th>\n",
              "      <th id=\"T_8456a_level0_col7\" class=\"col_heading level0 col7\" >gluc</th>\n",
              "      <th id=\"T_8456a_level0_col8\" class=\"col_heading level0 col8\" >smoke</th>\n",
              "      <th id=\"T_8456a_level0_col9\" class=\"col_heading level0 col9\" >alco</th>\n",
              "      <th id=\"T_8456a_level0_col10\" class=\"col_heading level0 col10\" >active</th>\n",
              "      <th id=\"T_8456a_level0_col11\" class=\"col_heading level0 col11\" >cardio</th>\n",
              "      <th id=\"T_8456a_level0_col12\" class=\"col_heading level0 col12\" >blood_pressure</th>\n",
              "      <th id=\"T_8456a_level0_col13\" class=\"col_heading level0 col13\" >age_range</th>\n",
              "      <th id=\"T_8456a_level0_col14\" class=\"col_heading level0 col14\" >bmi</th>\n",
              "    </tr>\n",
              "  </thead>\n",
              "  <tbody>\n",
              "    <tr>\n",
              "      <th id=\"T_8456a_level0_row0\" class=\"row_heading level0 row0\" >age</th>\n",
              "      <td id=\"T_8456a_row0_col0\" class=\"data row0 col0\" >1.000000</td>\n",
              "      <td id=\"T_8456a_row0_col1\" class=\"data row0 col1\" >-0.022172</td>\n",
              "      <td id=\"T_8456a_row0_col2\" class=\"data row0 col2\" >-0.086414</td>\n",
              "      <td id=\"T_8456a_row0_col3\" class=\"data row0 col3\" >0.062738</td>\n",
              "      <td id=\"T_8456a_row0_col4\" class=\"data row0 col4\" >0.020287</td>\n",
              "      <td id=\"T_8456a_row0_col5\" class=\"data row0 col5\" >0.153764</td>\n",
              "      <td id=\"T_8456a_row0_col6\" class=\"data row0 col6\" >0.155649</td>\n",
              "      <td id=\"T_8456a_row0_col7\" class=\"data row0 col7\" >0.099172</td>\n",
              "      <td id=\"T_8456a_row0_col8\" class=\"data row0 col8\" >-0.047392</td>\n",
              "      <td id=\"T_8456a_row0_col9\" class=\"data row0 col9\" >-0.028259</td>\n",
              "      <td id=\"T_8456a_row0_col10\" class=\"data row0 col10\" >-0.010462</td>\n",
              "      <td id=\"T_8456a_row0_col11\" class=\"data row0 col11\" >0.239356</td>\n",
              "      <td id=\"T_8456a_row0_col12\" class=\"data row0 col12\" >0.195201</td>\n",
              "      <td id=\"T_8456a_row0_col13\" class=\"data row0 col13\" >0.799658</td>\n",
              "      <td id=\"T_8456a_row0_col14\" class=\"data row0 col14\" >0.111511</td>\n",
              "    </tr>\n",
              "    <tr>\n",
              "      <th id=\"T_8456a_level0_row1\" class=\"row_heading level0 row1\" >gender</th>\n",
              "      <td id=\"T_8456a_row1_col0\" class=\"data row1 col0\" >-0.022172</td>\n",
              "      <td id=\"T_8456a_row1_col1\" class=\"data row1 col1\" >1.000000</td>\n",
              "      <td id=\"T_8456a_row1_col2\" class=\"data row1 col2\" >0.525604</td>\n",
              "      <td id=\"T_8456a_row1_col3\" class=\"data row1 col3\" >0.158932</td>\n",
              "      <td id=\"T_8456a_row1_col4\" class=\"data row1 col4\" >0.005933</td>\n",
              "      <td id=\"T_8456a_row1_col5\" class=\"data row1 col5\" >0.066055</td>\n",
              "      <td id=\"T_8456a_row1_col6\" class=\"data row1 col6\" >-0.036907</td>\n",
              "      <td id=\"T_8456a_row1_col7\" class=\"data row1 col7\" >-0.021281</td>\n",
              "      <td id=\"T_8456a_row1_col8\" class=\"data row1 col8\" >0.338754</td>\n",
              "      <td id=\"T_8456a_row1_col9\" class=\"data row1 col9\" >0.171111</td>\n",
              "      <td id=\"T_8456a_row1_col10\" class=\"data row1 col10\" >0.006419</td>\n",
              "      <td id=\"T_8456a_row1_col11\" class=\"data row1 col11\" >0.007096</td>\n",
              "      <td id=\"T_8456a_row1_col12\" class=\"data row1 col12\" >0.036126</td>\n",
              "      <td id=\"T_8456a_row1_col13\" class=\"data row1 col13\" >-0.038216</td>\n",
              "      <td id=\"T_8456a_row1_col14\" class=\"data row1 col14\" >-0.119018</td>\n",
              "    </tr>\n",
              "    <tr>\n",
              "      <th id=\"T_8456a_level0_row2\" class=\"row_heading level0 row2\" >height</th>\n",
              "      <td id=\"T_8456a_row2_col0\" class=\"data row2 col0\" >-0.086414</td>\n",
              "      <td id=\"T_8456a_row2_col1\" class=\"data row2 col1\" >0.525604</td>\n",
              "      <td id=\"T_8456a_row2_col2\" class=\"data row2 col2\" >1.000000</td>\n",
              "      <td id=\"T_8456a_row2_col3\" class=\"data row2 col3\" >0.312440</td>\n",
              "      <td id=\"T_8456a_row2_col4\" class=\"data row2 col4\" >0.005876</td>\n",
              "      <td id=\"T_8456a_row2_col5\" class=\"data row2 col5\" >0.035689</td>\n",
              "      <td id=\"T_8456a_row2_col6\" class=\"data row2 col6\" >-0.057111</td>\n",
              "      <td id=\"T_8456a_row2_col7\" class=\"data row2 col7\" >-0.021365</td>\n",
              "      <td id=\"T_8456a_row2_col8\" class=\"data row2 col8\" >0.197355</td>\n",
              "      <td id=\"T_8456a_row2_col9\" class=\"data row2 col9\" >0.097599</td>\n",
              "      <td id=\"T_8456a_row2_col10\" class=\"data row2 col10\" >-0.007854</td>\n",
              "      <td id=\"T_8456a_row2_col11\" class=\"data row2 col11\" >-0.012286</td>\n",
              "      <td id=\"T_8456a_row2_col12\" class=\"data row2 col12\" >-0.016890</td>\n",
              "      <td id=\"T_8456a_row2_col13\" class=\"data row2 col13\" >-0.067868</td>\n",
              "      <td id=\"T_8456a_row2_col14\" class=\"data row2 col14\" >-0.208240</td>\n",
              "    </tr>\n",
              "    <tr>\n",
              "      <th id=\"T_8456a_level0_row3\" class=\"row_heading level0 row3\" >weight</th>\n",
              "      <td id=\"T_8456a_row3_col0\" class=\"data row3 col0\" >0.062738</td>\n",
              "      <td id=\"T_8456a_row3_col1\" class=\"data row3 col1\" >0.158932</td>\n",
              "      <td id=\"T_8456a_row3_col2\" class=\"data row3 col2\" >0.312440</td>\n",
              "      <td id=\"T_8456a_row3_col3\" class=\"data row3 col3\" >1.000000</td>\n",
              "      <td id=\"T_8456a_row3_col4\" class=\"data row3 col4\" >0.030207</td>\n",
              "      <td id=\"T_8456a_row3_col5\" class=\"data row3 col5\" >0.252242</td>\n",
              "      <td id=\"T_8456a_row3_col6\" class=\"data row3 col6\" >0.143565</td>\n",
              "      <td id=\"T_8456a_row3_col7\" class=\"data row3 col7\" >0.105839</td>\n",
              "      <td id=\"T_8456a_row3_col8\" class=\"data row3 col8\" >0.066877</td>\n",
              "      <td id=\"T_8456a_row3_col9\" class=\"data row3 col9\" >0.067536</td>\n",
              "      <td id=\"T_8456a_row3_col10\" class=\"data row3 col10\" >-0.017632</td>\n",
              "      <td id=\"T_8456a_row3_col11\" class=\"data row3 col11\" >0.183847</td>\n",
              "      <td id=\"T_8456a_row3_col12\" class=\"data row3 col12\" >0.260100</td>\n",
              "      <td id=\"T_8456a_row3_col13\" class=\"data row3 col13\" >0.053246</td>\n",
              "      <td id=\"T_8456a_row3_col14\" class=\"data row3 col14\" >0.859977</td>\n",
              "    </tr>\n",
              "    <tr>\n",
              "      <th id=\"T_8456a_level0_row4\" class=\"row_heading level0 row4\" >ap_hi</th>\n",
              "      <td id=\"T_8456a_row4_col0\" class=\"data row4 col0\" >0.020287</td>\n",
              "      <td id=\"T_8456a_row4_col1\" class=\"data row4 col1\" >0.005933</td>\n",
              "      <td id=\"T_8456a_row4_col2\" class=\"data row4 col2\" >0.005876</td>\n",
              "      <td id=\"T_8456a_row4_col3\" class=\"data row4 col3\" >0.030207</td>\n",
              "      <td id=\"T_8456a_row4_col4\" class=\"data row4 col4\" >1.000000</td>\n",
              "      <td id=\"T_8456a_row4_col5\" class=\"data row4 col5\" >0.075812</td>\n",
              "      <td id=\"T_8456a_row4_col6\" class=\"data row4 col6\" >0.022727</td>\n",
              "      <td id=\"T_8456a_row4_col7\" class=\"data row4 col7\" >0.011505</td>\n",
              "      <td id=\"T_8456a_row4_col8\" class=\"data row4 col8\" >-0.001381</td>\n",
              "      <td id=\"T_8456a_row4_col9\" class=\"data row4 col9\" >0.001450</td>\n",
              "      <td id=\"T_8456a_row4_col10\" class=\"data row4 col10\" >-0.000491</td>\n",
              "      <td id=\"T_8456a_row4_col11\" class=\"data row4 col11\" >0.053037</td>\n",
              "      <td id=\"T_8456a_row4_col12\" class=\"data row4 col12\" >0.107670</td>\n",
              "      <td id=\"T_8456a_row4_col13\" class=\"data row4 col13\" >0.015863</td>\n",
              "      <td id=\"T_8456a_row4_col14\" class=\"data row4 col14\" >0.028332</td>\n",
              "    </tr>\n",
              "    <tr>\n",
              "      <th id=\"T_8456a_level0_row5\" class=\"row_heading level0 row5\" >ap_lo</th>\n",
              "      <td id=\"T_8456a_row5_col0\" class=\"data row5 col0\" >0.153764</td>\n",
              "      <td id=\"T_8456a_row5_col1\" class=\"data row5 col1\" >0.066055</td>\n",
              "      <td id=\"T_8456a_row5_col2\" class=\"data row5 col2\" >0.035689</td>\n",
              "      <td id=\"T_8456a_row5_col3\" class=\"data row5 col3\" >0.252242</td>\n",
              "      <td id=\"T_8456a_row5_col4\" class=\"data row5 col4\" >0.075812</td>\n",
              "      <td id=\"T_8456a_row5_col5\" class=\"data row5 col5\" >1.000000</td>\n",
              "      <td id=\"T_8456a_row5_col6\" class=\"data row5 col6\" >0.157313</td>\n",
              "      <td id=\"T_8456a_row5_col7\" class=\"data row5 col7\" >0.073926</td>\n",
              "      <td id=\"T_8456a_row5_col8\" class=\"data row5 col8\" >0.025429</td>\n",
              "      <td id=\"T_8456a_row5_col9\" class=\"data row5 col9\" >0.036364</td>\n",
              "      <td id=\"T_8456a_row5_col10\" class=\"data row5 col10\" >-0.001877</td>\n",
              "      <td id=\"T_8456a_row5_col11\" class=\"data row5 col11\" >0.332429</td>\n",
              "      <td id=\"T_8456a_row5_col12\" class=\"data row5 col12\" >0.608271</td>\n",
              "      <td id=\"T_8456a_row5_col13\" class=\"data row5 col13\" >0.131866</td>\n",
              "      <td id=\"T_8456a_row5_col14\" class=\"data row5 col14\" >0.240126</td>\n",
              "    </tr>\n",
              "    <tr>\n",
              "      <th id=\"T_8456a_level0_row6\" class=\"row_heading level0 row6\" >cholesterol</th>\n",
              "      <td id=\"T_8456a_row6_col0\" class=\"data row6 col0\" >0.155649</td>\n",
              "      <td id=\"T_8456a_row6_col1\" class=\"data row6 col1\" >-0.036907</td>\n",
              "      <td id=\"T_8456a_row6_col2\" class=\"data row6 col2\" >-0.057111</td>\n",
              "      <td id=\"T_8456a_row6_col3\" class=\"data row6 col3\" >0.143565</td>\n",
              "      <td id=\"T_8456a_row6_col4\" class=\"data row6 col4\" >0.022727</td>\n",
              "      <td id=\"T_8456a_row6_col5\" class=\"data row6 col5\" >0.157313</td>\n",
              "      <td id=\"T_8456a_row6_col6\" class=\"data row6 col6\" >1.000000</td>\n",
              "      <td id=\"T_8456a_row6_col7\" class=\"data row6 col7\" >0.450546</td>\n",
              "      <td id=\"T_8456a_row6_col8\" class=\"data row6 col8\" >0.009753</td>\n",
              "      <td id=\"T_8456a_row6_col9\" class=\"data row6 col9\" >0.035641</td>\n",
              "      <td id=\"T_8456a_row6_col10\" class=\"data row6 col10\" >0.008627</td>\n",
              "      <td id=\"T_8456a_row6_col11\" class=\"data row6 col11\" >0.221072</td>\n",
              "      <td id=\"T_8456a_row6_col12\" class=\"data row6 col12\" >0.227459</td>\n",
              "      <td id=\"T_8456a_row6_col13\" class=\"data row6 col13\" >0.116916</td>\n",
              "      <td id=\"T_8456a_row6_col14\" class=\"data row6 col14\" >0.176817</td>\n",
              "    </tr>\n",
              "    <tr>\n",
              "      <th id=\"T_8456a_level0_row7\" class=\"row_heading level0 row7\" >gluc</th>\n",
              "      <td id=\"T_8456a_row7_col0\" class=\"data row7 col0\" >0.099172</td>\n",
              "      <td id=\"T_8456a_row7_col1\" class=\"data row7 col1\" >-0.021281</td>\n",
              "      <td id=\"T_8456a_row7_col2\" class=\"data row7 col2\" >-0.021365</td>\n",
              "      <td id=\"T_8456a_row7_col3\" class=\"data row7 col3\" >0.105839</td>\n",
              "      <td id=\"T_8456a_row7_col4\" class=\"data row7 col4\" >0.011505</td>\n",
              "      <td id=\"T_8456a_row7_col5\" class=\"data row7 col5\" >0.073926</td>\n",
              "      <td id=\"T_8456a_row7_col6\" class=\"data row7 col6\" >0.450546</td>\n",
              "      <td id=\"T_8456a_row7_col7\" class=\"data row7 col7\" >1.000000</td>\n",
              "      <td id=\"T_8456a_row7_col8\" class=\"data row7 col8\" >-0.005768</td>\n",
              "      <td id=\"T_8456a_row7_col9\" class=\"data row7 col9\" >0.010092</td>\n",
              "      <td id=\"T_8456a_row7_col10\" class=\"data row7 col10\" >-0.007926</td>\n",
              "      <td id=\"T_8456a_row7_col11\" class=\"data row7 col11\" >0.089124</td>\n",
              "      <td id=\"T_8456a_row7_col12\" class=\"data row7 col12\" >0.103389</td>\n",
              "      <td id=\"T_8456a_row7_col13\" class=\"data row7 col13\" >0.077478</td>\n",
              "      <td id=\"T_8456a_row7_col14\" class=\"data row7 col14\" >0.119153</td>\n",
              "    </tr>\n",
              "    <tr>\n",
              "      <th id=\"T_8456a_level0_row8\" class=\"row_heading level0 row8\" >smoke</th>\n",
              "      <td id=\"T_8456a_row8_col0\" class=\"data row8 col0\" >-0.047392</td>\n",
              "      <td id=\"T_8456a_row8_col1\" class=\"data row8 col1\" >0.338754</td>\n",
              "      <td id=\"T_8456a_row8_col2\" class=\"data row8 col2\" >0.197355</td>\n",
              "      <td id=\"T_8456a_row8_col3\" class=\"data row8 col3\" >0.066877</td>\n",
              "      <td id=\"T_8456a_row8_col4\" class=\"data row8 col4\" >-0.001381</td>\n",
              "      <td id=\"T_8456a_row8_col5\" class=\"data row8 col5\" >0.025429</td>\n",
              "      <td id=\"T_8456a_row8_col6\" class=\"data row8 col6\" >0.009753</td>\n",
              "      <td id=\"T_8456a_row8_col7\" class=\"data row8 col7\" >-0.005768</td>\n",
              "      <td id=\"T_8456a_row8_col8\" class=\"data row8 col8\" >1.000000</td>\n",
              "      <td id=\"T_8456a_row8_col9\" class=\"data row8 col9\" >0.340636</td>\n",
              "      <td id=\"T_8456a_row8_col10\" class=\"data row8 col10\" >0.025288</td>\n",
              "      <td id=\"T_8456a_row8_col11\" class=\"data row8 col11\" >-0.016501</td>\n",
              "      <td id=\"T_8456a_row8_col12\" class=\"data row8 col12\" >0.032920</td>\n",
              "      <td id=\"T_8456a_row8_col13\" class=\"data row8 col13\" >-0.039015</td>\n",
              "      <td id=\"T_8456a_row8_col14\" class=\"data row8 col14\" >-0.037044</td>\n",
              "    </tr>\n",
              "    <tr>\n",
              "      <th id=\"T_8456a_level0_row9\" class=\"row_heading level0 row9\" >alco</th>\n",
              "      <td id=\"T_8456a_row9_col0\" class=\"data row9 col0\" >-0.028259</td>\n",
              "      <td id=\"T_8456a_row9_col1\" class=\"data row9 col1\" >0.171111</td>\n",
              "      <td id=\"T_8456a_row9_col2\" class=\"data row9 col2\" >0.097599</td>\n",
              "      <td id=\"T_8456a_row9_col3\" class=\"data row9 col3\" >0.067536</td>\n",
              "      <td id=\"T_8456a_row9_col4\" class=\"data row9 col4\" >0.001450</td>\n",
              "      <td id=\"T_8456a_row9_col5\" class=\"data row9 col5\" >0.036364</td>\n",
              "      <td id=\"T_8456a_row9_col6\" class=\"data row9 col6\" >0.035641</td>\n",
              "      <td id=\"T_8456a_row9_col7\" class=\"data row9 col7\" >0.010092</td>\n",
              "      <td id=\"T_8456a_row9_col8\" class=\"data row9 col8\" >0.340636</td>\n",
              "      <td id=\"T_8456a_row9_col9\" class=\"data row9 col9\" >1.000000</td>\n",
              "      <td id=\"T_8456a_row9_col10\" class=\"data row9 col10\" >0.024509</td>\n",
              "      <td id=\"T_8456a_row9_col11\" class=\"data row9 col11\" >-0.008339</td>\n",
              "      <td id=\"T_8456a_row9_col12\" class=\"data row9 col12\" >0.042273</td>\n",
              "      <td id=\"T_8456a_row9_col13\" class=\"data row9 col13\" >-0.020542</td>\n",
              "      <td id=\"T_8456a_row9_col14\" class=\"data row9 col14\" >0.016375</td>\n",
              "    </tr>\n",
              "    <tr>\n",
              "      <th id=\"T_8456a_level0_row10\" class=\"row_heading level0 row10\" >active</th>\n",
              "      <td id=\"T_8456a_row10_col0\" class=\"data row10 col0\" >-0.010462</td>\n",
              "      <td id=\"T_8456a_row10_col1\" class=\"data row10 col1\" >0.006419</td>\n",
              "      <td id=\"T_8456a_row10_col2\" class=\"data row10 col2\" >-0.007854</td>\n",
              "      <td id=\"T_8456a_row10_col3\" class=\"data row10 col3\" >-0.017632</td>\n",
              "      <td id=\"T_8456a_row10_col4\" class=\"data row10 col4\" >-0.000491</td>\n",
              "      <td id=\"T_8456a_row10_col5\" class=\"data row10 col5\" >-0.001877</td>\n",
              "      <td id=\"T_8456a_row10_col6\" class=\"data row10 col6\" >0.008627</td>\n",
              "      <td id=\"T_8456a_row10_col7\" class=\"data row10 col7\" >-0.007926</td>\n",
              "      <td id=\"T_8456a_row10_col8\" class=\"data row10 col8\" >0.025288</td>\n",
              "      <td id=\"T_8456a_row10_col9\" class=\"data row10 col9\" >0.024509</td>\n",
              "      <td id=\"T_8456a_row10_col10\" class=\"data row10 col10\" >1.000000</td>\n",
              "      <td id=\"T_8456a_row10_col11\" class=\"data row10 col11\" >-0.037868</td>\n",
              "      <td id=\"T_8456a_row10_col12\" class=\"data row10 col12\" >-0.002113</td>\n",
              "      <td id=\"T_8456a_row10_col13\" class=\"data row10 col13\" >-0.007215</td>\n",
              "      <td id=\"T_8456a_row10_col14\" class=\"data row10 col14\" >-0.014427</td>\n",
              "    </tr>\n",
              "    <tr>\n",
              "      <th id=\"T_8456a_level0_row11\" class=\"row_heading level0 row11\" >cardio</th>\n",
              "      <td id=\"T_8456a_row11_col0\" class=\"data row11 col0\" >0.239356</td>\n",
              "      <td id=\"T_8456a_row11_col1\" class=\"data row11 col1\" >0.007096</td>\n",
              "      <td id=\"T_8456a_row11_col2\" class=\"data row11 col2\" >-0.012286</td>\n",
              "      <td id=\"T_8456a_row11_col3\" class=\"data row11 col3\" >0.183847</td>\n",
              "      <td id=\"T_8456a_row11_col4\" class=\"data row11 col4\" >0.053037</td>\n",
              "      <td id=\"T_8456a_row11_col5\" class=\"data row11 col5\" >0.332429</td>\n",
              "      <td id=\"T_8456a_row11_col6\" class=\"data row11 col6\" >0.221072</td>\n",
              "      <td id=\"T_8456a_row11_col7\" class=\"data row11 col7\" >0.089124</td>\n",
              "      <td id=\"T_8456a_row11_col8\" class=\"data row11 col8\" >-0.016501</td>\n",
              "      <td id=\"T_8456a_row11_col9\" class=\"data row11 col9\" >-0.008339</td>\n",
              "      <td id=\"T_8456a_row11_col10\" class=\"data row11 col10\" >-0.037868</td>\n",
              "      <td id=\"T_8456a_row11_col11\" class=\"data row11 col11\" >1.000000</td>\n",
              "      <td id=\"T_8456a_row11_col12\" class=\"data row11 col12\" >0.421279</td>\n",
              "      <td id=\"T_8456a_row11_col13\" class=\"data row11 col13\" >0.177686</td>\n",
              "      <td id=\"T_8456a_row11_col14\" class=\"data row11 col14\" >0.194624</td>\n",
              "    </tr>\n",
              "    <tr>\n",
              "      <th id=\"T_8456a_level0_row12\" class=\"row_heading level0 row12\" >blood_pressure</th>\n",
              "      <td id=\"T_8456a_row12_col0\" class=\"data row12 col0\" >0.195201</td>\n",
              "      <td id=\"T_8456a_row12_col1\" class=\"data row12 col1\" >0.036126</td>\n",
              "      <td id=\"T_8456a_row12_col2\" class=\"data row12 col2\" >-0.016890</td>\n",
              "      <td id=\"T_8456a_row12_col3\" class=\"data row12 col3\" >0.260100</td>\n",
              "      <td id=\"T_8456a_row12_col4\" class=\"data row12 col4\" >0.107670</td>\n",
              "      <td id=\"T_8456a_row12_col5\" class=\"data row12 col5\" >0.608271</td>\n",
              "      <td id=\"T_8456a_row12_col6\" class=\"data row12 col6\" >0.227459</td>\n",
              "      <td id=\"T_8456a_row12_col7\" class=\"data row12 col7\" >0.103389</td>\n",
              "      <td id=\"T_8456a_row12_col8\" class=\"data row12 col8\" >0.032920</td>\n",
              "      <td id=\"T_8456a_row12_col9\" class=\"data row12 col9\" >0.042273</td>\n",
              "      <td id=\"T_8456a_row12_col10\" class=\"data row12 col10\" >-0.002113</td>\n",
              "      <td id=\"T_8456a_row12_col11\" class=\"data row12 col11\" >0.421279</td>\n",
              "      <td id=\"T_8456a_row12_col12\" class=\"data row12 col12\" >1.000000</td>\n",
              "      <td id=\"T_8456a_row12_col13\" class=\"data row12 col13\" >0.152340</td>\n",
              "      <td id=\"T_8456a_row12_col14\" class=\"data row12 col14\" >0.274193</td>\n",
              "    </tr>\n",
              "    <tr>\n",
              "      <th id=\"T_8456a_level0_row13\" class=\"row_heading level0 row13\" >age_range</th>\n",
              "      <td id=\"T_8456a_row13_col0\" class=\"data row13 col0\" >0.799658</td>\n",
              "      <td id=\"T_8456a_row13_col1\" class=\"data row13 col1\" >-0.038216</td>\n",
              "      <td id=\"T_8456a_row13_col2\" class=\"data row13 col2\" >-0.067868</td>\n",
              "      <td id=\"T_8456a_row13_col3\" class=\"data row13 col3\" >0.053246</td>\n",
              "      <td id=\"T_8456a_row13_col4\" class=\"data row13 col4\" >0.015863</td>\n",
              "      <td id=\"T_8456a_row13_col5\" class=\"data row13 col5\" >0.131866</td>\n",
              "      <td id=\"T_8456a_row13_col6\" class=\"data row13 col6\" >0.116916</td>\n",
              "      <td id=\"T_8456a_row13_col7\" class=\"data row13 col7\" >0.077478</td>\n",
              "      <td id=\"T_8456a_row13_col8\" class=\"data row13 col8\" >-0.039015</td>\n",
              "      <td id=\"T_8456a_row13_col9\" class=\"data row13 col9\" >-0.020542</td>\n",
              "      <td id=\"T_8456a_row13_col10\" class=\"data row13 col10\" >-0.007215</td>\n",
              "      <td id=\"T_8456a_row13_col11\" class=\"data row13 col11\" >0.177686</td>\n",
              "      <td id=\"T_8456a_row13_col12\" class=\"data row13 col12\" >0.152340</td>\n",
              "      <td id=\"T_8456a_row13_col13\" class=\"data row13 col13\" >1.000000</td>\n",
              "      <td id=\"T_8456a_row13_col14\" class=\"data row13 col14\" >0.091573</td>\n",
              "    </tr>\n",
              "    <tr>\n",
              "      <th id=\"T_8456a_level0_row14\" class=\"row_heading level0 row14\" >bmi</th>\n",
              "      <td id=\"T_8456a_row14_col0\" class=\"data row14 col0\" >0.111511</td>\n",
              "      <td id=\"T_8456a_row14_col1\" class=\"data row14 col1\" >-0.119018</td>\n",
              "      <td id=\"T_8456a_row14_col2\" class=\"data row14 col2\" >-0.208240</td>\n",
              "      <td id=\"T_8456a_row14_col3\" class=\"data row14 col3\" >0.859977</td>\n",
              "      <td id=\"T_8456a_row14_col4\" class=\"data row14 col4\" >0.028332</td>\n",
              "      <td id=\"T_8456a_row14_col5\" class=\"data row14 col5\" >0.240126</td>\n",
              "      <td id=\"T_8456a_row14_col6\" class=\"data row14 col6\" >0.176817</td>\n",
              "      <td id=\"T_8456a_row14_col7\" class=\"data row14 col7\" >0.119153</td>\n",
              "      <td id=\"T_8456a_row14_col8\" class=\"data row14 col8\" >-0.037044</td>\n",
              "      <td id=\"T_8456a_row14_col9\" class=\"data row14 col9\" >0.016375</td>\n",
              "      <td id=\"T_8456a_row14_col10\" class=\"data row14 col10\" >-0.014427</td>\n",
              "      <td id=\"T_8456a_row14_col11\" class=\"data row14 col11\" >0.194624</td>\n",
              "      <td id=\"T_8456a_row14_col12\" class=\"data row14 col12\" >0.274193</td>\n",
              "      <td id=\"T_8456a_row14_col13\" class=\"data row14 col13\" >0.091573</td>\n",
              "      <td id=\"T_8456a_row14_col14\" class=\"data row14 col14\" >1.000000</td>\n",
              "    </tr>\n",
              "  </tbody>\n",
              "</table>\n"
            ]
          },
          "metadata": {},
          "execution_count": 91
        }
      ],
      "source": [
        "corr = new_data_cap.corr()\n",
        "\n",
        "corr.style.background_gradient(cmap='BuGn')"
      ]
    },
    {
      "cell_type": "code",
      "execution_count": null,
      "metadata": {
        "id": "1kDXL4KqrIsP"
      },
      "outputs": [],
      "source": [
        "new_data_cap.drop(['gender','height','ap_hi','smoke','alco','active'], axis = 1, inplace = True)"
      ]
    },
    {
      "cell_type": "code",
      "source": [
        "age_cardio = pd.DataFrame({\n",
        "    'The Cardiac disease by average': new_data_cap.groupby('age')['cardio'].mean(),\n",
        "    'Age': sorted(new_data_cap['age'].unique())\n",
        "})\n",
        "plt.figure(figsize=(11,6))\n",
        "sns.barplot(x='Age', y='The Cardiac disease by average', data=age_cardio, palette='viridis')\n",
        "plt.title('Cardiac Disease Risk by Age')\n",
        "plt.xlabel('Age')\n",
        "plt.ylabel('Average Risk of Cardiac Disease')\n",
        "plt.show()"
      ],
      "metadata": {
        "colab": {
          "base_uri": "https://localhost:8080/",
          "height": 564
        },
        "id": "Ax2uoZrVvt_u",
        "outputId": "88efe1ae-2445-48ac-88ea-5d12fa11e721"
      },
      "execution_count": null,
      "outputs": [
        {
          "output_type": "display_data",
          "data": {
            "text/plain": [
              "<Figure size 1100x600 with 1 Axes>"
            ],
            "image/png": "[encoded data removed]"
          },
          "metadata": {}
        }
      ]
    },
    {
      "cell_type": "code",
      "source": [
        "age_chol = pd.DataFrame({\n",
        "    'The Cardiac disease by average':new_data_cap.groupby('cholesterol')['cardio'].mean(),\n",
        "    'The amount of Cholesterol': ['Normal', 'Above Normal', 'Well Above Normal']\n",
        "})\n",
        "\n",
        "# Create a bar plot using Seaborn\n",
        "plt.figure(figsize=(11,6))\n",
        "sns.barplot(x='The amount of Cholesterol', y='The Cardiac disease by average', data=age_chol, palette='viridis')\n",
        "plt.title('Cardiac Disease Risk by Cholesterol Level')\n",
        "plt.xlabel('Cholesterol Level')\n",
        "plt.ylabel('Average Risk of Cardiac Disease')\n",
        "plt.show()"
      ],
      "metadata": {
        "colab": {
          "base_uri": "https://localhost:8080/",
          "height": 564
        },
        "id": "2r2u0Q6tuzFS",
        "outputId": "4928d688-e28d-4b6b-f042-4eb1808ff364"
      },
      "execution_count": null,
      "outputs": [
        {
          "output_type": "display_data",
          "data": {
            "text/plain": [
              "<Figure size 1100x600 with 1 Axes>"
            ],
            "image/png": "[encoded data removed]"
          },
          "metadata": {}
        }
      ]
    },
    {
      "cell_type": "code",
      "execution_count": null,
      "metadata": {
        "colab": {
          "base_uri": "https://localhost:8080/"
        },
        "id": "-wH-7lFGr_Nr",
        "outputId": "70cfb0d7-9845-47cf-c278-a06382de6be1"
      },
      "outputs": [
        {
          "output_type": "stream",
          "name": "stdout",
          "text": [
            "<class 'pandas.core.frame.DataFrame'>\n",
            "RangeIndex: 68258 entries, 0 to 68257\n",
            "Data columns (total 9 columns):\n",
            " #   Column          Non-Null Count  Dtype  \n",
            "---  ------          --------------  -----  \n",
            " 0   age             68258 non-null  float64\n",
            " 1   weight          68258 non-null  float64\n",
            " 2   ap_lo           68258 non-null  int64  \n",
            " 3   cholesterol     68258 non-null  int64  \n",
            " 4   gluc            68258 non-null  int64  \n",
            " 5   cardio          68258 non-null  int64  \n",
            " 6   blood_pressure  67768 non-null  float64\n",
            " 7   age_range       68258 non-null  int64  \n",
            " 8   bmi             68258 non-null  float64\n",
            "dtypes: float64(4), int64(5)\n",
            "memory usage: 4.7 MB\n"
          ]
        }
      ],
      "source": [
        "new_data_cap.info()"
      ]
    },
    {
      "cell_type": "code",
      "execution_count": null,
      "metadata": {
        "id": "3Ap9T1rzU4M8"
      },
      "outputs": [],
      "source": []
    },
    {
      "cell_type": "code",
      "execution_count": null,
      "metadata": {
        "colab": {
          "base_uri": "https://localhost:8080/"
        },
        "id": "Z16fX8r3sEhP",
        "outputId": "0038d44d-98c4-4d15-80ae-a211b62b4fa5"
      },
      "outputs": [
        {
          "output_type": "execute_result",
          "data": {
            "text/plain": [
              "age                 0\n",
              "weight              0\n",
              "ap_lo               0\n",
              "cholesterol         0\n",
              "gluc                0\n",
              "cardio              0\n",
              "blood_pressure    490\n",
              "age_range           0\n",
              "bmi                 0\n",
              "dtype: int64"
            ]
          },
          "metadata": {},
          "execution_count": 96
        }
      ],
      "source": [
        "new_data_cap.isnull().sum() #because of new features we can get null values"
      ]
    },
    {
      "cell_type": "code",
      "execution_count": null,
      "metadata": {
        "id": "FStIE-kpsI1i"
      },
      "outputs": [],
      "source": [
        "new_data_cap.dropna(inplace=True)"
      ]
    },
    {
      "cell_type": "code",
      "execution_count": null,
      "metadata": {
        "id": "lQI0gYQnsTYU"
      },
      "outputs": [],
      "source": [
        "x = new_data_cap.iloc[:,[0,1,2,3,4,6,7,8]]\n",
        "y = new_data_cap.iloc[:,[5]]"
      ]
    },
    {
      "cell_type": "code",
      "execution_count": null,
      "metadata": {
        "id": "G5IE3INtU-V3"
      },
      "outputs": [],
      "source": [
        "from sklearn.preprocessing import StandardScaler\n",
        "scaler = StandardScaler()\n",
        "standard_X = scaler.fit_transform(x)"
      ]
    },
    {
      "cell_type": "markdown",
      "metadata": {
        "id": "Vo5f8Fk6sYQk"
      },
      "source": []
    },
    {
      "cell_type": "code",
      "source": [
        "from sklearn.model_selection import train_test_split\n",
        "from sklearn.ensemble import RandomForestClassifier\n",
        "from sklearn.metrics import confusion_matrix, roc_curve, roc_auc_score\n",
        "import matplotlib.pyplot as plt\n",
        "import seaborn as sns\n",
        "from sklearn import metrics\n",
        "\n",
        "# Replace 'df' with 'new_data_cap' in the following code\n",
        "X = new_data_cap.drop(columns=['cardio'])\n",
        "y = new_data_cap['cardio'].values.reshape(-1, 1)\n",
        "\n",
        "X_train, X_test, y_train, y_test = train_test_split(standard_X, y, test_size=0.35, random_state=1)\n",
        "\n",
        "RF_clf = RandomForestClassifier(n_estimators=50, max_depth=9)\n",
        "RF_clf.fit(X_train, y_train)\n",
        "\n",
        "# Calculate the probabilities of the positive class (class 1)\n",
        "y_prob = RF_clf.predict_proba(X_test)[:, 1]\n",
        "\n",
        "# Get the ROC curve\n",
        "fpr, tpr, thresholds = roc_curve(y_test, y_prob)\n",
        "\n",
        "# Calculate the AUC score\n",
        "roc_auc = roc_auc_score(y_test, y_prob)\n",
        "\n",
        "# Print the accuracy and AUC\n",
        "y_pred = RF_clf.predict(X_test)\n",
        "print(\"Accuracy:\", 100 * metrics.accuracy_score(y_test, y_pred))\n",
        "print(\"ROC-AUC:\", roc_auc)\n",
        "\n",
        "# Plot the confusion matrix as a heatmap\n",
        "sns.heatmap(confusion_matrix(y_test, y_pred), annot=True, fmt='d', cmap='Blues', cbar=False)\n",
        "plt.xlabel('Predicted')\n",
        "plt.ylabel('Actual')\n",
        "plt.title('Confusion Matrix of Random Forest')\n",
        "plt.show()\n",
        "\n",
        "# Plot the ROC curve\n",
        "plt.figure(figsize=(8, 6))\n",
        "plt.plot(fpr, tpr, color='darkorange', lw=2, label=f'ROC curve (AUC = {roc_auc:.2f})')\n",
        "plt.plot([0, 1], [0, 1], color='navy', lw=2, linestyle='--')\n",
        "plt.xlim([0.0, 1.0])\n",
        "plt.ylim([0.0, 1.05])\n",
        "plt.xlabel('False Positive Rate')\n",
        "plt.ylabel('True Positive Rate')\n",
        "plt.title('Receiver Operating Characteristic (ROC) Curve')\n",
        "plt.legend(loc='lower right')\n",
        "plt.show()\n",
        "\n",
        "\n"
      ],
      "metadata": {
        "colab": {
          "base_uri": "https://localhost:8080/",
          "height": 1000
        },
        "id": "7k6ZMiND-oMJ",
        "outputId": "a4a277c4-8781-4a28-ce6a-a636b0804405"
      },
      "execution_count": null,
      "outputs": [
        {
          "output_type": "stream",
          "name": "stderr",
          "text": [
            "<ipython-input-100-7328ca961e31>:15: DataConversionWarning: A column-vector y was passed when a 1d array was expected. Please change the shape of y to (n_samples,), for example using ravel().\n",
            "  RF_clf.fit(X_train, y_train)\n"
          ]
        },
        {
          "output_type": "stream",
          "name": "stdout",
          "text": [
            "Accuracy: 71.95918883595431\n",
            "ROC-AUC: 0.7783826854377228\n"
          ]
        },
        {
          "output_type": "display_data",
          "data": {
            "text/plain": [
              "<Figure size 640x480 with 1 Axes>"
            ],
            "image/png": "[encoded data removed]"
          },
          "metadata": {}
        },
        {
          "output_type": "display_data",
          "data": {
            "text/plain": [
              "<Figure size 800x600 with 1 Axes>"
            ],
            "image/png": "[encoded data removed]"
          },
          "metadata": {}
        }
      ]
    },
    {
      "cell_type": "code",
      "source": [
        "from sklearn.naive_bayes import GaussianNB\n",
        "\n",
        "# Replace 'df' with 'new_data_cap' in the following code\n",
        "X = new_data_cap.drop(columns=['cardio'])\n",
        "y = new_data_cap['cardio'].values.reshape(-1, 1)\n",
        "\n",
        "X_train, X_test, y_train, y_test = train_test_split(standard_X, y, test_size=0.30, random_state=0)\n",
        "\n",
        "gaussian = GaussianNB()\n",
        "gaussian.fit(X_train, y_train)\n",
        "\n",
        "# Calculate the probabilities of the positive class (class 1)\n",
        "y_prob = gaussian.predict_proba(X_test)[:, 1]\n",
        "\n",
        "# Get the ROC curve\n",
        "fpr, tpr, thresholds = roc_curve(y_test, y_prob)\n",
        "\n",
        "# Calculate the AUC score\n",
        "roc_auc = roc_auc_score(y_test, y_prob)\n",
        "\n",
        "# Print the accuracy and AUC\n",
        "acc_gaussian = round(gaussian.score(X_train, y_train) * 100, 2)\n",
        "acc_test_gaussian = round(gaussian.score(X_test, y_test) * 100, 2)\n",
        "print(\"Accuracy:\", acc_test_gaussian)\n",
        "print(\"ROC-AUC:\", roc_auc)\n",
        "\n",
        "# Plot the confusion matrix as a heatmap\n",
        "sns.heatmap(confusion_matrix(y_test, gaussian.predict(X_test)), annot=True, fmt='d', cmap='Blues', cbar=False)\n",
        "plt.xlabel('Predicted')\n",
        "plt.ylabel('Actual')\n",
        "plt.title('Confusion Matrix of Naive Bayes')\n",
        "plt.show()\n",
        "\n",
        "# Plot the ROC curve\n",
        "plt.figure(figsize=(8, 6))\n",
        "plt.plot(fpr, tpr, color='darkorange', lw=2, label=f'ROC curve (AUC = {roc_auc:.2f})')\n",
        "plt.plot([0, 1], [0, 1], color='navy', lw=2, linestyle='--')\n",
        "plt.xlim([0.0, 1.0])\n",
        "plt.ylim([0.0, 1.05])\n",
        "plt.xlabel('False Positive Rate')\n",
        "plt.ylabel('True Positive Rate')\n",
        "plt.title('Receiver Operating Characteristic (ROC) Curve')\n",
        "plt.legend(loc='lower right')\n",
        "plt.show()\n",
        "\n",
        "\n",
        "\n"
      ],
      "metadata": {
        "colab": {
          "base_uri": "https://localhost:8080/",
          "height": 1000
        },
        "id": "7d3refEG_tNU",
        "outputId": "1f2cc115-a97c-424b-fd7d-226187600884"
      },
      "execution_count": null,
      "outputs": [
        {
          "output_type": "stream",
          "name": "stderr",
          "text": [
            "/usr/local/lib/python3.10/dist-packages/sklearn/utils/validation.py:1143: DataConversionWarning: A column-vector y was passed when a 1d array was expected. Please change the shape of y to (n_samples, ), for example using ravel().\n",
            "  y = column_or_1d(y, warn=True)\n"
          ]
        },
        {
          "output_type": "stream",
          "name": "stdout",
          "text": [
            "Accuracy: 70.66\n",
            "ROC-AUC: 0.762556844271397\n"
          ]
        },
        {
          "output_type": "display_data",
          "data": {
            "text/plain": [
              "<Figure size 640x480 with 1 Axes>"
            ],
            "image/png": "[encoded data removed]"
          },
          "metadata": {}
        },
        {
          "output_type": "display_data",
          "data": {
            "text/plain": [
              "<Figure size 800x600 with 1 Axes>"
            ],
            "image/png": "[encoded data removed]"
          },
          "metadata": {}
        }
      ]
    },
    {
      "cell_type": "code",
      "source": [
        "# Decision Tree Classifier\n",
        "from sklearn.tree import DecisionTreeClassifier\n",
        "decision_tree = DecisionTreeClassifier()\n",
        "decision_tree.fit(X_train, y_train)\n",
        "acc_decision_tree = round(decision_tree.score(X_train, y_train) * 100, 2)\n",
        "acc_decision_tree\n",
        "acc_test_decision_tree = round(decision_tree.score(X_test,y_test) * 100, 2)\n",
        "acc_test_decision_tree"
      ],
      "metadata": {
        "colab": {
          "base_uri": "https://localhost:8080/"
        },
        "id": "jeLMcMh2_5E8",
        "outputId": "ad872a8d-1c60-4a02-d9c3-2dd1a750c2c6"
      },
      "execution_count": null,
      "outputs": [
        {
          "output_type": "execute_result",
          "data": {
            "text/plain": [
              "62.61"
            ]
          },
          "metadata": {},
          "execution_count": 102
        }
      ]
    },
    {
      "cell_type": "code",
      "source": [
        "# Support Vector Machines\n",
        "from sklearn.svm import SVC\n",
        "svc = SVC()\n",
        "svc.fit(X_train, y_train)\n",
        "acc_svc = round(svc.score(X_train, y_train) * 100, 2)\n",
        "acc_svc"
      ],
      "metadata": {
        "colab": {
          "base_uri": "https://localhost:8080/"
        },
        "id": "og_OrADgcFXE",
        "outputId": "4882eaa8-0877-4407-fa63-052c5af8ccd6"
      },
      "execution_count": null,
      "outputs": [
        {
          "output_type": "stream",
          "name": "stderr",
          "text": [
            "/usr/local/lib/python3.10/dist-packages/sklearn/utils/validation.py:1143: DataConversionWarning: A column-vector y was passed when a 1d array was expected. Please change the shape of y to (n_samples, ), for example using ravel().\n",
            "  y = column_or_1d(y, warn=True)\n"
          ]
        },
        {
          "output_type": "execute_result",
          "data": {
            "text/plain": [
              "72.19"
            ]
          },
          "metadata": {},
          "execution_count": 104
        }
      ]
    },
    {
      "cell_type": "code",
      "source": [
        "acc_test_svc = round(svc.score(X_test,y_test) * 100, 2)\n",
        "acc_test_svc"
      ],
      "metadata": {
        "colab": {
          "base_uri": "https://localhost:8080/"
        },
        "id": "3S2GJjY5cGkM",
        "outputId": "ddeaea6a-fa40-4ae3-9ac5-841312173a77"
      },
      "execution_count": null,
      "outputs": [
        {
          "output_type": "execute_result",
          "data": {
            "text/plain": [
              "72.38"
            ]
          },
          "metadata": {},
          "execution_count": 105
        }
      ]
    }
  ],
  "metadata": {
    "colab": {
      "provenance": []
    },
    "kernelspec": {
      "display_name": "Python 3",
      "name": "python3"
    },
    "language_info": {
      "name": "python"
    }
  },
  "nbformat": 4,
  "nbformat_minor": 0
}